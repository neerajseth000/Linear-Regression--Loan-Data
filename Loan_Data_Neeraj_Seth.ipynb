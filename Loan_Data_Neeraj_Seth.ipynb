{
 "cells": [
  {
   "cell_type": "code",
   "execution_count": 1,
   "metadata": {},
   "outputs": [],
   "source": [
    "import numpy as np\n",
    "import pandas as pd\n",
    "import matplotlib.pyplot as plt\n",
    "import seaborn as sns\n",
    "from sklearn import linear_model\n",
    "from sklearn.linear_model import LinearRegression\n",
    "from sklearn.linear_model import Ridge\n",
    "from sklearn.linear_model import Lasso\n",
    "from sklearn.model_selection import GridSearchCV\n",
    "\n",
    "import os\n",
    "\n",
    "# hide warnings\n",
    "import warnings\n",
    "warnings.filterwarnings('ignore')"
   ]
  },
  {
   "cell_type": "code",
   "execution_count": 2,
   "metadata": {},
   "outputs": [],
   "source": [
    "Id_train=pd.read_csv(\"loan_data_train.csv\")"
   ]
  },
  {
   "cell_type": "code",
   "execution_count": 3,
   "metadata": {},
   "outputs": [
    {
     "data": {
      "text/html": [
       "<div>\n",
       "<style scoped>\n",
       "    .dataframe tbody tr th:only-of-type {\n",
       "        vertical-align: middle;\n",
       "    }\n",
       "\n",
       "    .dataframe tbody tr th {\n",
       "        vertical-align: top;\n",
       "    }\n",
       "\n",
       "    .dataframe thead th {\n",
       "        text-align: right;\n",
       "    }\n",
       "</style>\n",
       "<table border=\"1\" class=\"dataframe\">\n",
       "  <thead>\n",
       "    <tr style=\"text-align: right;\">\n",
       "      <th></th>\n",
       "      <th>ID</th>\n",
       "      <th>Amount.Requested</th>\n",
       "      <th>Amount.Funded.By.Investors</th>\n",
       "      <th>Interest.Rate</th>\n",
       "      <th>Loan.Length</th>\n",
       "      <th>Loan.Purpose</th>\n",
       "      <th>Debt.To.Income.Ratio</th>\n",
       "      <th>State</th>\n",
       "      <th>Home.Ownership</th>\n",
       "      <th>Monthly.Income</th>\n",
       "      <th>FICO.Range</th>\n",
       "      <th>Open.CREDIT.Lines</th>\n",
       "      <th>Revolving.CREDIT.Balance</th>\n",
       "      <th>Inquiries.in.the.Last.6.Months</th>\n",
       "      <th>Employment.Length</th>\n",
       "    </tr>\n",
       "  </thead>\n",
       "  <tbody>\n",
       "    <tr>\n",
       "      <th>0</th>\n",
       "      <td>79542.0</td>\n",
       "      <td>25000</td>\n",
       "      <td>25000</td>\n",
       "      <td>18.49%</td>\n",
       "      <td>60 months</td>\n",
       "      <td>debt_consolidation</td>\n",
       "      <td>27.56%</td>\n",
       "      <td>VA</td>\n",
       "      <td>MORTGAGE</td>\n",
       "      <td>8606.56</td>\n",
       "      <td>720-724</td>\n",
       "      <td>11</td>\n",
       "      <td>15210</td>\n",
       "      <td>3.0</td>\n",
       "      <td>5 years</td>\n",
       "    </tr>\n",
       "  </tbody>\n",
       "</table>\n",
       "</div>"
      ],
      "text/plain": [
       "        ID Amount.Requested Amount.Funded.By.Investors Interest.Rate  \\\n",
       "0  79542.0            25000                      25000        18.49%   \n",
       "\n",
       "  Loan.Length        Loan.Purpose Debt.To.Income.Ratio State Home.Ownership  \\\n",
       "0   60 months  debt_consolidation               27.56%    VA       MORTGAGE   \n",
       "\n",
       "   Monthly.Income FICO.Range Open.CREDIT.Lines Revolving.CREDIT.Balance  \\\n",
       "0         8606.56    720-724                11                    15210   \n",
       "\n",
       "   Inquiries.in.the.Last.6.Months Employment.Length  \n",
       "0                             3.0           5 years  "
      ]
     },
     "execution_count": 3,
     "metadata": {},
     "output_type": "execute_result"
    }
   ],
   "source": [
    "Id_train.head(1)"
   ]
  },
  {
   "cell_type": "code",
   "execution_count": 4,
   "metadata": {},
   "outputs": [
    {
     "data": {
      "text/plain": [
       "(2200, 15)"
      ]
     },
     "execution_count": 4,
     "metadata": {},
     "output_type": "execute_result"
    }
   ],
   "source": [
    "Id_train.shape"
   ]
  },
  {
   "cell_type": "code",
   "execution_count": 5,
   "metadata": {},
   "outputs": [
    {
     "data": {
      "text/plain": [
       "Index(['ID', 'Amount.Requested', 'Amount.Funded.By.Investors', 'Interest.Rate',\n",
       "       'Loan.Length', 'Loan.Purpose', 'Debt.To.Income.Ratio', 'State',\n",
       "       'Home.Ownership', 'Monthly.Income', 'FICO.Range', 'Open.CREDIT.Lines',\n",
       "       'Revolving.CREDIT.Balance', 'Inquiries.in.the.Last.6.Months',\n",
       "       'Employment.Length'],\n",
       "      dtype='object')"
      ]
     },
     "execution_count": 5,
     "metadata": {},
     "output_type": "execute_result"
    }
   ],
   "source": [
    "Id_train.columns"
   ]
  },
  {
   "cell_type": "code",
   "execution_count": 6,
   "metadata": {},
   "outputs": [],
   "source": [
    "Id_test=pd.read_csv(\"loan_data_test.csv\")"
   ]
  },
  {
   "cell_type": "code",
   "execution_count": 7,
   "metadata": {},
   "outputs": [
    {
     "data": {
      "text/html": [
       "<div>\n",
       "<style scoped>\n",
       "    .dataframe tbody tr th:only-of-type {\n",
       "        vertical-align: middle;\n",
       "    }\n",
       "\n",
       "    .dataframe tbody tr th {\n",
       "        vertical-align: top;\n",
       "    }\n",
       "\n",
       "    .dataframe thead th {\n",
       "        text-align: right;\n",
       "    }\n",
       "</style>\n",
       "<table border=\"1\" class=\"dataframe\">\n",
       "  <thead>\n",
       "    <tr style=\"text-align: right;\">\n",
       "      <th></th>\n",
       "      <th>ID</th>\n",
       "      <th>Amount.Requested</th>\n",
       "      <th>Amount.Funded.By.Investors</th>\n",
       "      <th>Loan.Length</th>\n",
       "      <th>Loan.Purpose</th>\n",
       "      <th>Debt.To.Income.Ratio</th>\n",
       "      <th>State</th>\n",
       "      <th>Home.Ownership</th>\n",
       "      <th>Monthly.Income</th>\n",
       "      <th>FICO.Range</th>\n",
       "      <th>Open.CREDIT.Lines</th>\n",
       "      <th>Revolving.CREDIT.Balance</th>\n",
       "      <th>Inquiries.in.the.Last.6.Months</th>\n",
       "      <th>Employment.Length</th>\n",
       "    </tr>\n",
       "  </thead>\n",
       "  <tbody>\n",
       "    <tr>\n",
       "      <th>0</th>\n",
       "      <td>20093</td>\n",
       "      <td>5000</td>\n",
       "      <td>5000</td>\n",
       "      <td>60 months</td>\n",
       "      <td>moving</td>\n",
       "      <td>12.59%</td>\n",
       "      <td>NY</td>\n",
       "      <td>RENT</td>\n",
       "      <td>4416.67</td>\n",
       "      <td>690-694</td>\n",
       "      <td>13</td>\n",
       "      <td>7686</td>\n",
       "      <td>0</td>\n",
       "      <td>&lt; 1 year</td>\n",
       "    </tr>\n",
       "  </tbody>\n",
       "</table>\n",
       "</div>"
      ],
      "text/plain": [
       "      ID  Amount.Requested Amount.Funded.By.Investors Loan.Length  \\\n",
       "0  20093              5000                       5000   60 months   \n",
       "\n",
       "  Loan.Purpose Debt.To.Income.Ratio State Home.Ownership  Monthly.Income  \\\n",
       "0       moving               12.59%    NY           RENT         4416.67   \n",
       "\n",
       "  FICO.Range Open.CREDIT.Lines  Revolving.CREDIT.Balance  \\\n",
       "0    690-694                13                      7686   \n",
       "\n",
       "   Inquiries.in.the.Last.6.Months Employment.Length  \n",
       "0                               0          < 1 year  "
      ]
     },
     "execution_count": 7,
     "metadata": {},
     "output_type": "execute_result"
    }
   ],
   "source": [
    "Id_test.head(1)"
   ]
  },
  {
   "cell_type": "code",
   "execution_count": 8,
   "metadata": {},
   "outputs": [
    {
     "data": {
      "text/plain": [
       "(300, 14)"
      ]
     },
     "execution_count": 8,
     "metadata": {},
     "output_type": "execute_result"
    }
   ],
   "source": [
    "Id_test.shape"
   ]
  },
  {
   "cell_type": "code",
   "execution_count": 9,
   "metadata": {},
   "outputs": [
    {
     "data": {
      "text/plain": [
       "Index(['ID', 'Amount.Requested', 'Amount.Funded.By.Investors', 'Loan.Length',\n",
       "       'Loan.Purpose', 'Debt.To.Income.Ratio', 'State', 'Home.Ownership',\n",
       "       'Monthly.Income', 'FICO.Range', 'Open.CREDIT.Lines',\n",
       "       'Revolving.CREDIT.Balance', 'Inquiries.in.the.Last.6.Months',\n",
       "       'Employment.Length'],\n",
       "      dtype='object')"
      ]
     },
     "execution_count": 9,
     "metadata": {},
     "output_type": "execute_result"
    }
   ],
   "source": [
    "Id_test.columns"
   ]
  },
  {
   "cell_type": "code",
   "execution_count": 10,
   "metadata": {},
   "outputs": [],
   "source": [
    "Id_test['Interest.Rate']=np.nan #create new column in test data named \"Interest.Rate\"\n",
    "Id_train['data']='train' #to separate test and training data\n",
    "Id_test['data']='test'\n",
    "Id_test=Id_test[Id_train.columns] # to make sure column name would be in same location in both dataframe\n",
    "Id_all=pd.concat([Id_train,Id_test],axis=0) #concate train and test"
   ]
  },
  {
   "cell_type": "code",
   "execution_count": 11,
   "metadata": {},
   "outputs": [
    {
     "data": {
      "text/html": [
       "<div>\n",
       "<style scoped>\n",
       "    .dataframe tbody tr th:only-of-type {\n",
       "        vertical-align: middle;\n",
       "    }\n",
       "\n",
       "    .dataframe tbody tr th {\n",
       "        vertical-align: top;\n",
       "    }\n",
       "\n",
       "    .dataframe thead th {\n",
       "        text-align: right;\n",
       "    }\n",
       "</style>\n",
       "<table border=\"1\" class=\"dataframe\">\n",
       "  <thead>\n",
       "    <tr style=\"text-align: right;\">\n",
       "      <th></th>\n",
       "      <th>ID</th>\n",
       "      <th>Amount.Requested</th>\n",
       "      <th>Amount.Funded.By.Investors</th>\n",
       "      <th>Interest.Rate</th>\n",
       "      <th>Loan.Length</th>\n",
       "      <th>Loan.Purpose</th>\n",
       "      <th>Debt.To.Income.Ratio</th>\n",
       "      <th>State</th>\n",
       "      <th>Home.Ownership</th>\n",
       "      <th>Monthly.Income</th>\n",
       "      <th>FICO.Range</th>\n",
       "      <th>Open.CREDIT.Lines</th>\n",
       "      <th>Revolving.CREDIT.Balance</th>\n",
       "      <th>Inquiries.in.the.Last.6.Months</th>\n",
       "      <th>Employment.Length</th>\n",
       "      <th>data</th>\n",
       "    </tr>\n",
       "  </thead>\n",
       "  <tbody>\n",
       "    <tr>\n",
       "      <th>0</th>\n",
       "      <td>79542.0</td>\n",
       "      <td>25000</td>\n",
       "      <td>25000</td>\n",
       "      <td>18.49%</td>\n",
       "      <td>60 months</td>\n",
       "      <td>debt_consolidation</td>\n",
       "      <td>27.56%</td>\n",
       "      <td>VA</td>\n",
       "      <td>MORTGAGE</td>\n",
       "      <td>8606.56</td>\n",
       "      <td>720-724</td>\n",
       "      <td>11</td>\n",
       "      <td>15210</td>\n",
       "      <td>3.0</td>\n",
       "      <td>5 years</td>\n",
       "      <td>train</td>\n",
       "    </tr>\n",
       "    <tr>\n",
       "      <th>1</th>\n",
       "      <td>75473.0</td>\n",
       "      <td>19750</td>\n",
       "      <td>19750</td>\n",
       "      <td>17.27%</td>\n",
       "      <td>60 months</td>\n",
       "      <td>debt_consolidation</td>\n",
       "      <td>13.39%</td>\n",
       "      <td>NY</td>\n",
       "      <td>MORTGAGE</td>\n",
       "      <td>6737.50</td>\n",
       "      <td>710-714</td>\n",
       "      <td>14</td>\n",
       "      <td>19070</td>\n",
       "      <td>3.0</td>\n",
       "      <td>4 years</td>\n",
       "      <td>train</td>\n",
       "    </tr>\n",
       "    <tr>\n",
       "      <th>2</th>\n",
       "      <td>67265.0</td>\n",
       "      <td>2100</td>\n",
       "      <td>2100</td>\n",
       "      <td>14.33%</td>\n",
       "      <td>36 months</td>\n",
       "      <td>major_purchase</td>\n",
       "      <td>3.50%</td>\n",
       "      <td>LA</td>\n",
       "      <td>OWN</td>\n",
       "      <td>1000.00</td>\n",
       "      <td>690-694</td>\n",
       "      <td>13</td>\n",
       "      <td>893</td>\n",
       "      <td>1.0</td>\n",
       "      <td>&lt; 1 year</td>\n",
       "      <td>train</td>\n",
       "    </tr>\n",
       "    <tr>\n",
       "      <th>3</th>\n",
       "      <td>80167.0</td>\n",
       "      <td>28000</td>\n",
       "      <td>28000</td>\n",
       "      <td>16.29%</td>\n",
       "      <td>36 months</td>\n",
       "      <td>credit_card</td>\n",
       "      <td>19.62%</td>\n",
       "      <td>NV</td>\n",
       "      <td>MORTGAGE</td>\n",
       "      <td>7083.33</td>\n",
       "      <td>710-714</td>\n",
       "      <td>12</td>\n",
       "      <td>38194</td>\n",
       "      <td>1.0</td>\n",
       "      <td>10+ years</td>\n",
       "      <td>train</td>\n",
       "    </tr>\n",
       "    <tr>\n",
       "      <th>4</th>\n",
       "      <td>17240.0</td>\n",
       "      <td>24250</td>\n",
       "      <td>17431.82</td>\n",
       "      <td>12.23%</td>\n",
       "      <td>60 months</td>\n",
       "      <td>credit_card</td>\n",
       "      <td>23.79%</td>\n",
       "      <td>OH</td>\n",
       "      <td>MORTGAGE</td>\n",
       "      <td>5833.33</td>\n",
       "      <td>730-734</td>\n",
       "      <td>6</td>\n",
       "      <td>31061</td>\n",
       "      <td>2.0</td>\n",
       "      <td>10+ years</td>\n",
       "      <td>train</td>\n",
       "    </tr>\n",
       "  </tbody>\n",
       "</table>\n",
       "</div>"
      ],
      "text/plain": [
       "        ID Amount.Requested Amount.Funded.By.Investors Interest.Rate  \\\n",
       "0  79542.0            25000                      25000        18.49%   \n",
       "1  75473.0            19750                      19750        17.27%   \n",
       "2  67265.0             2100                       2100        14.33%   \n",
       "3  80167.0            28000                      28000        16.29%   \n",
       "4  17240.0            24250                   17431.82        12.23%   \n",
       "\n",
       "  Loan.Length        Loan.Purpose Debt.To.Income.Ratio State Home.Ownership  \\\n",
       "0   60 months  debt_consolidation               27.56%    VA       MORTGAGE   \n",
       "1   60 months  debt_consolidation               13.39%    NY       MORTGAGE   \n",
       "2   36 months      major_purchase                3.50%    LA            OWN   \n",
       "3   36 months         credit_card               19.62%    NV       MORTGAGE   \n",
       "4   60 months         credit_card               23.79%    OH       MORTGAGE   \n",
       "\n",
       "   Monthly.Income FICO.Range Open.CREDIT.Lines Revolving.CREDIT.Balance  \\\n",
       "0         8606.56    720-724                11                    15210   \n",
       "1         6737.50    710-714                14                    19070   \n",
       "2         1000.00    690-694                13                      893   \n",
       "3         7083.33    710-714                12                    38194   \n",
       "4         5833.33    730-734                 6                    31061   \n",
       "\n",
       "   Inquiries.in.the.Last.6.Months Employment.Length   data  \n",
       "0                             3.0           5 years  train  \n",
       "1                             3.0           4 years  train  \n",
       "2                             1.0          < 1 year  train  \n",
       "3                             1.0         10+ years  train  \n",
       "4                             2.0         10+ years  train  "
      ]
     },
     "execution_count": 11,
     "metadata": {},
     "output_type": "execute_result"
    }
   ],
   "source": [
    "Id_all.head()"
   ]
  },
  {
   "cell_type": "code",
   "execution_count": 12,
   "metadata": {},
   "outputs": [
    {
     "data": {
      "text/plain": [
       "(2500, 16)"
      ]
     },
     "execution_count": 12,
     "metadata": {},
     "output_type": "execute_result"
    }
   ],
   "source": [
    "Id_all.shape"
   ]
  },
  {
   "cell_type": "code",
   "execution_count": 13,
   "metadata": {},
   "outputs": [],
   "source": [
    "Id_all=Id_all.drop('ID',axis=1)"
   ]
  },
  {
   "cell_type": "code",
   "execution_count": 14,
   "metadata": {},
   "outputs": [
    {
     "data": {
      "text/plain": [
       "(2500, 15)"
      ]
     },
     "execution_count": 14,
     "metadata": {},
     "output_type": "execute_result"
    }
   ],
   "source": [
    "Id_all.shape"
   ]
  },
  {
   "cell_type": "markdown",
   "metadata": {},
   "source": [
    "# Cleaning Data"
   ]
  },
  {
   "cell_type": "code",
   "execution_count": 15,
   "metadata": {},
   "outputs": [],
   "source": [
    "Id_all['Interest.Rate'] = Id_all['Interest.Rate'].str.replace(\"%\",'')\n",
    "Id_all['Interest.Rate'] = Id_all['Interest.Rate'].apply(pd.to_numeric)\n",
    "Id_all['Debt.To.Income.Ratio'] = Id_all['Debt.To.Income.Ratio'].str.replace(\"%\",'')\n",
    "Id_all['Debt.To.Income.Ratio'] = Id_all['Debt.To.Income.Ratio'].apply(pd.to_numeric)"
   ]
  },
  {
   "cell_type": "code",
   "execution_count": 16,
   "metadata": {},
   "outputs": [
    {
     "data": {
      "text/plain": [
       "Amount.Requested                   object\n",
       "Amount.Funded.By.Investors         object\n",
       "Interest.Rate                     float64\n",
       "Loan.Length                        object\n",
       "Loan.Purpose                       object\n",
       "Debt.To.Income.Ratio              float64\n",
       "State                              object\n",
       "Home.Ownership                     object\n",
       "Monthly.Income                    float64\n",
       "FICO.Range                         object\n",
       "Open.CREDIT.Lines                  object\n",
       "Revolving.CREDIT.Balance           object\n",
       "Inquiries.in.the.Last.6.Months    float64\n",
       "Employment.Length                  object\n",
       "data                               object\n",
       "dtype: object"
      ]
     },
     "execution_count": 16,
     "metadata": {},
     "output_type": "execute_result"
    }
   ],
   "source": [
    "Id_all.dtypes"
   ]
  },
  {
   "cell_type": "code",
   "execution_count": 17,
   "metadata": {},
   "outputs": [],
   "source": [
    "# Id_all['Employment.Length']=Id_all['Employment.Length'].str.replace('< 1','0')\n",
    "# Id_all['Employment.Length']=Id_all['Employment.Length'].str.replace(r'\\D',\"\")\n",
    "# Id_all['Employment.Length'].apply(pd.to_numeric).head()\n",
    "# Id_all['Employment.Length'].head()"
   ]
  },
  {
   "cell_type": "code",
   "execution_count": null,
   "metadata": {},
   "outputs": [],
   "source": []
  },
  {
   "cell_type": "code",
   "execution_count": null,
   "metadata": {},
   "outputs": [],
   "source": []
  },
  {
   "cell_type": "code",
   "execution_count": 18,
   "metadata": {},
   "outputs": [
    {
     "data": {
      "text/plain": [
       "0     5.0\n",
       "1     4.0\n",
       "2     0.0\n",
       "3    10.0\n",
       "4    10.0\n",
       "Name: Employment.Length, dtype: float64"
      ]
     },
     "execution_count": 18,
     "metadata": {},
     "output_type": "execute_result"
    }
   ],
   "source": [
    "Id_all['Employment.Length']=Id_all['Employment.Length'].str.replace('years',\"\")\n",
    "Id_all['Employment.Length']=Id_all['Employment.Length'].str.replace('year',\"\")\n",
    "Id_all['Employment.Length']=np.where(Id_all['Employment.Length'].str[:2]==\"10\",10,Id_all['Employment.Length'])\n",
    "Id_all['Employment.Length']=np.where(Id_all['Employment.Length'].str[0]==\"<\",0,Id_all['Employment.Length'])\n",
    "Id_all['Employment.Length']=pd.to_numeric(Id_all['Employment.Length'],errors='coerce')\n",
    "Id_all['Employment.Length'].head()"
   ]
  },
  {
   "cell_type": "code",
   "execution_count": null,
   "metadata": {},
   "outputs": [],
   "source": []
  },
  {
   "cell_type": "code",
   "execution_count": 19,
   "metadata": {},
   "outputs": [
    {
     "data": {
      "text/plain": [
       "Amount.Requested                   object\n",
       "Amount.Funded.By.Investors         object\n",
       "Interest.Rate                     float64\n",
       "Loan.Length                        object\n",
       "Loan.Purpose                       object\n",
       "Debt.To.Income.Ratio              float64\n",
       "State                              object\n",
       "Home.Ownership                     object\n",
       "Monthly.Income                    float64\n",
       "FICO.Range                         object\n",
       "Open.CREDIT.Lines                  object\n",
       "Revolving.CREDIT.Balance           object\n",
       "Inquiries.in.the.Last.6.Months    float64\n",
       "Employment.Length                 float64\n",
       "data                               object\n",
       "dtype: object"
      ]
     },
     "execution_count": 19,
     "metadata": {},
     "output_type": "execute_result"
    }
   ],
   "source": [
    "Id_all.dtypes"
   ]
  },
  {
   "cell_type": "code",
   "execution_count": 20,
   "metadata": {},
   "outputs": [],
   "source": [
    "# Id_all['Employment.Length']=Id_all['Employment.Length'].fillna(np.mean(Id_all['Employment.Length']))"
   ]
  },
  {
   "cell_type": "code",
   "execution_count": null,
   "metadata": {},
   "outputs": [],
   "source": []
  },
  {
   "cell_type": "code",
   "execution_count": 21,
   "metadata": {},
   "outputs": [
    {
     "data": {
      "text/plain": [
       "0    722.0\n",
       "1    712.0\n",
       "2    692.0\n",
       "3    712.0\n",
       "4    732.0\n",
       "Name: fico, dtype: float64"
      ]
     },
     "execution_count": 21,
     "metadata": {},
     "output_type": "execute_result"
    }
   ],
   "source": [
    "# new data frame with split value columns \n",
    "k= Id_all[\"FICO.Range\"].str.split(\"-\", expand = True).astype(float)\n",
    "Id_all['fico']=0.5*(k[0]+k[1])\n",
    "del Id_all['FICO.Range']\n",
    "Id_all['fico'].head()"
   ]
  },
  {
   "cell_type": "code",
   "execution_count": 22,
   "metadata": {},
   "outputs": [
    {
     "data": {
      "text/plain": [
       "Amount.Requested                   object\n",
       "Amount.Funded.By.Investors         object\n",
       "Interest.Rate                     float64\n",
       "Loan.Length                        object\n",
       "Loan.Purpose                       object\n",
       "Debt.To.Income.Ratio              float64\n",
       "State                              object\n",
       "Home.Ownership                     object\n",
       "Monthly.Income                    float64\n",
       "Open.CREDIT.Lines                  object\n",
       "Revolving.CREDIT.Balance           object\n",
       "Inquiries.in.the.Last.6.Months    float64\n",
       "Employment.Length                 float64\n",
       "data                               object\n",
       "fico                              float64\n",
       "dtype: object"
      ]
     },
     "execution_count": 22,
     "metadata": {},
     "output_type": "execute_result"
    }
   ],
   "source": [
    "Id_all.dtypes"
   ]
  },
  {
   "cell_type": "code",
   "execution_count": 23,
   "metadata": {},
   "outputs": [],
   "source": [
    "# Id_all['Loan.Length']=Id_all['Loan.Length'].str.replace(r'\\D',\"\")\n",
    "# Id_all['Loan.Length'].head()"
   ]
  },
  {
   "cell_type": "code",
   "execution_count": 24,
   "metadata": {},
   "outputs": [],
   "source": [
    "Id_all['Loan.Length']=Id_all['Loan.Length'].str.replace(' months',\"\")\n",
    "Id_all['Loan.Length']=pd.to_numeric(Id_all['Loan.Length'],errors='coerce')"
   ]
  },
  {
   "cell_type": "code",
   "execution_count": 25,
   "metadata": {},
   "outputs": [
    {
     "data": {
      "text/plain": [
       "0    60.0\n",
       "1    60.0\n",
       "2    36.0\n",
       "3    36.0\n",
       "4    60.0\n",
       "Name: Loan.Length, dtype: float64"
      ]
     },
     "execution_count": 25,
     "metadata": {},
     "output_type": "execute_result"
    }
   ],
   "source": [
    "Id_all['Loan.Length'].head()"
   ]
  },
  {
   "cell_type": "code",
   "execution_count": 26,
   "metadata": {},
   "outputs": [],
   "source": [
    "for col in ['Amount.Requested','Open.CREDIT.Lines','Revolving.CREDIT.Balance']:\n",
    "    Id_all[col]=pd.to_numeric(Id_all[col],errors='coerce') #because of . it shows error so ignore that error"
   ]
  },
  {
   "cell_type": "code",
   "execution_count": 27,
   "metadata": {},
   "outputs": [
    {
     "data": {
      "text/plain": [
       "Amount.Requested                    5\n",
       "Amount.Funded.By.Investors          1\n",
       "Interest.Rate                     300\n",
       "Loan.Length                         2\n",
       "Loan.Purpose                        1\n",
       "Debt.To.Income.Ratio                1\n",
       "State                               1\n",
       "Home.Ownership                      1\n",
       "Monthly.Income                      3\n",
       "Open.CREDIT.Lines                   9\n",
       "Revolving.CREDIT.Balance            5\n",
       "Inquiries.in.the.Last.6.Months      3\n",
       "Employment.Length                  80\n",
       "data                                0\n",
       "fico                                0\n",
       "dtype: int64"
      ]
     },
     "execution_count": 27,
     "metadata": {},
     "output_type": "execute_result"
    }
   ],
   "source": [
    "Id_all.isnull().sum()"
   ]
  },
  {
   "cell_type": "code",
   "execution_count": 28,
   "metadata": {},
   "outputs": [
    {
     "data": {
      "text/plain": [
       "Amount.Requested                  float64\n",
       "Amount.Funded.By.Investors         object\n",
       "Interest.Rate                     float64\n",
       "Loan.Length                       float64\n",
       "Loan.Purpose                       object\n",
       "Debt.To.Income.Ratio              float64\n",
       "State                              object\n",
       "Home.Ownership                     object\n",
       "Monthly.Income                    float64\n",
       "Open.CREDIT.Lines                 float64\n",
       "Revolving.CREDIT.Balance          float64\n",
       "Inquiries.in.the.Last.6.Months    float64\n",
       "Employment.Length                 float64\n",
       "data                               object\n",
       "fico                              float64\n",
       "dtype: object"
      ]
     },
     "execution_count": 28,
     "metadata": {},
     "output_type": "execute_result"
    }
   ],
   "source": [
    "Id_all.dtypes"
   ]
  },
  {
   "cell_type": "code",
   "execution_count": 29,
   "metadata": {},
   "outputs": [
    {
     "data": {
      "text/plain": [
       "debt_consolidation    1307\n",
       "credit_card            444\n",
       "other                  200\n",
       "home_improvement       152\n",
       "major_purchase         101\n",
       "small_business          87\n",
       "car                     50\n",
       "wedding                 39\n",
       "medical                 30\n",
       "moving                  29\n",
       "vacation                21\n",
       "house                   20\n",
       "educational             15\n",
       "renewable_energy         4\n",
       "Name: Loan.Purpose, dtype: int64"
      ]
     },
     "execution_count": 29,
     "metadata": {},
     "output_type": "execute_result"
    }
   ],
   "source": [
    "Id_all['Loan.Purpose'].value_counts()"
   ]
  },
  {
   "cell_type": "code",
   "execution_count": 30,
   "metadata": {},
   "outputs": [],
   "source": [
    "for col in ['Amount.Requested','Open.CREDIT.Lines','Revolving.CREDIT.Balance']:\n",
    "    Id_all[col]=pd.to_numeric(Id_all[col],errors='coerce')"
   ]
  },
  {
   "cell_type": "code",
   "execution_count": 31,
   "metadata": {},
   "outputs": [],
   "source": [
    "del Id_all['Amount.Funded.By.Investors'] #as it is future value so can delete"
   ]
  },
  {
   "cell_type": "code",
   "execution_count": 32,
   "metadata": {},
   "outputs": [
    {
     "data": {
      "text/plain": [
       "Index(['Loan.Purpose', 'State', 'Home.Ownership', 'data'], dtype='object')"
      ]
     },
     "execution_count": 32,
     "metadata": {},
     "output_type": "execute_result"
    }
   ],
   "source": [
    "cat_cols=Id_all.select_dtypes(['object']).columns\n",
    "cat_cols"
   ]
  },
  {
   "cell_type": "code",
   "execution_count": null,
   "metadata": {},
   "outputs": [],
   "source": []
  },
  {
   "cell_type": "code",
   "execution_count": 33,
   "metadata": {},
   "outputs": [
    {
     "data": {
      "text/plain": [
       "Index(['Loan.Purpose', 'State', 'Home.Ownership'], dtype='object')"
      ]
     },
     "execution_count": 33,
     "metadata": {},
     "output_type": "execute_result"
    }
   ],
   "source": [
    "cat_cols=cat_cols[:-1]\n",
    "cat_cols"
   ]
  },
  {
   "cell_type": "code",
   "execution_count": 37,
   "metadata": {},
   "outputs": [
    {
     "name": "stdout",
     "output_type": "stream",
     "text": [
      "Loan.Purpose\n",
      "State\n",
      "Home.Ownership\n"
     ]
    }
   ],
   "source": [
    "for col in cat_cols:\n",
    "    freqs=Id_all[col].value_counts()\n",
    "    k=freqs.index[freqs>20][:-1]\n",
    "    for cat in k:\n",
    "        name=col+'_'+cat\n",
    "        Id_all[name]=(Id_all[col]==cat).astype(int)\n",
    "    del Id_all[col]\n",
    "    print(col)"
   ]
  },
  {
   "cell_type": "code",
   "execution_count": 43,
   "metadata": {},
   "outputs": [
    {
     "data": {
      "text/html": [
       "<div>\n",
       "<style scoped>\n",
       "    .dataframe tbody tr th:only-of-type {\n",
       "        vertical-align: middle;\n",
       "    }\n",
       "\n",
       "    .dataframe tbody tr th {\n",
       "        vertical-align: top;\n",
       "    }\n",
       "\n",
       "    .dataframe thead th {\n",
       "        text-align: right;\n",
       "    }\n",
       "</style>\n",
       "<table border=\"1\" class=\"dataframe\">\n",
       "  <thead>\n",
       "    <tr style=\"text-align: right;\">\n",
       "      <th></th>\n",
       "      <th>Amount.Requested</th>\n",
       "      <th>Interest.Rate</th>\n",
       "      <th>Loan.Length</th>\n",
       "      <th>Debt.To.Income.Ratio</th>\n",
       "      <th>Monthly.Income</th>\n",
       "      <th>Open.CREDIT.Lines</th>\n",
       "      <th>Revolving.CREDIT.Balance</th>\n",
       "      <th>Inquiries.in.the.Last.6.Months</th>\n",
       "      <th>Employment.Length</th>\n",
       "      <th>data</th>\n",
       "      <th>...</th>\n",
       "      <th>State_MO</th>\n",
       "      <th>State_NV</th>\n",
       "      <th>State_OR</th>\n",
       "      <th>State_SC</th>\n",
       "      <th>State_WI</th>\n",
       "      <th>State_KY</th>\n",
       "      <th>State_LA</th>\n",
       "      <th>State_OK</th>\n",
       "      <th>Home.Ownership_MORTGAGE</th>\n",
       "      <th>Home.Ownership_RENT</th>\n",
       "    </tr>\n",
       "  </thead>\n",
       "  <tbody>\n",
       "    <tr>\n",
       "      <th>0</th>\n",
       "      <td>25000.0</td>\n",
       "      <td>18.49</td>\n",
       "      <td>60.0</td>\n",
       "      <td>27.56</td>\n",
       "      <td>8606.56</td>\n",
       "      <td>11.0</td>\n",
       "      <td>15210.0</td>\n",
       "      <td>3.0</td>\n",
       "      <td>5.0</td>\n",
       "      <td>train</td>\n",
       "      <td>...</td>\n",
       "      <td>0</td>\n",
       "      <td>0</td>\n",
       "      <td>0</td>\n",
       "      <td>0</td>\n",
       "      <td>0</td>\n",
       "      <td>0</td>\n",
       "      <td>0</td>\n",
       "      <td>0</td>\n",
       "      <td>1</td>\n",
       "      <td>0</td>\n",
       "    </tr>\n",
       "    <tr>\n",
       "      <th>1</th>\n",
       "      <td>19750.0</td>\n",
       "      <td>17.27</td>\n",
       "      <td>60.0</td>\n",
       "      <td>13.39</td>\n",
       "      <td>6737.50</td>\n",
       "      <td>14.0</td>\n",
       "      <td>19070.0</td>\n",
       "      <td>3.0</td>\n",
       "      <td>4.0</td>\n",
       "      <td>train</td>\n",
       "      <td>...</td>\n",
       "      <td>0</td>\n",
       "      <td>0</td>\n",
       "      <td>0</td>\n",
       "      <td>0</td>\n",
       "      <td>0</td>\n",
       "      <td>0</td>\n",
       "      <td>0</td>\n",
       "      <td>0</td>\n",
       "      <td>1</td>\n",
       "      <td>0</td>\n",
       "    </tr>\n",
       "    <tr>\n",
       "      <th>2</th>\n",
       "      <td>2100.0</td>\n",
       "      <td>14.33</td>\n",
       "      <td>36.0</td>\n",
       "      <td>3.50</td>\n",
       "      <td>1000.00</td>\n",
       "      <td>13.0</td>\n",
       "      <td>893.0</td>\n",
       "      <td>1.0</td>\n",
       "      <td>0.0</td>\n",
       "      <td>train</td>\n",
       "      <td>...</td>\n",
       "      <td>0</td>\n",
       "      <td>0</td>\n",
       "      <td>0</td>\n",
       "      <td>0</td>\n",
       "      <td>0</td>\n",
       "      <td>0</td>\n",
       "      <td>1</td>\n",
       "      <td>0</td>\n",
       "      <td>0</td>\n",
       "      <td>0</td>\n",
       "    </tr>\n",
       "    <tr>\n",
       "      <th>3</th>\n",
       "      <td>28000.0</td>\n",
       "      <td>16.29</td>\n",
       "      <td>36.0</td>\n",
       "      <td>19.62</td>\n",
       "      <td>7083.33</td>\n",
       "      <td>12.0</td>\n",
       "      <td>38194.0</td>\n",
       "      <td>1.0</td>\n",
       "      <td>10.0</td>\n",
       "      <td>train</td>\n",
       "      <td>...</td>\n",
       "      <td>0</td>\n",
       "      <td>1</td>\n",
       "      <td>0</td>\n",
       "      <td>0</td>\n",
       "      <td>0</td>\n",
       "      <td>0</td>\n",
       "      <td>0</td>\n",
       "      <td>0</td>\n",
       "      <td>1</td>\n",
       "      <td>0</td>\n",
       "    </tr>\n",
       "    <tr>\n",
       "      <th>4</th>\n",
       "      <td>24250.0</td>\n",
       "      <td>12.23</td>\n",
       "      <td>60.0</td>\n",
       "      <td>23.79</td>\n",
       "      <td>5833.33</td>\n",
       "      <td>6.0</td>\n",
       "      <td>31061.0</td>\n",
       "      <td>2.0</td>\n",
       "      <td>10.0</td>\n",
       "      <td>train</td>\n",
       "      <td>...</td>\n",
       "      <td>0</td>\n",
       "      <td>0</td>\n",
       "      <td>0</td>\n",
       "      <td>0</td>\n",
       "      <td>0</td>\n",
       "      <td>0</td>\n",
       "      <td>0</td>\n",
       "      <td>0</td>\n",
       "      <td>1</td>\n",
       "      <td>0</td>\n",
       "    </tr>\n",
       "  </tbody>\n",
       "</table>\n",
       "<p>5 rows × 51 columns</p>\n",
       "</div>"
      ],
      "text/plain": [
       "   Amount.Requested  Interest.Rate  Loan.Length  Debt.To.Income.Ratio  \\\n",
       "0           25000.0          18.49         60.0                 27.56   \n",
       "1           19750.0          17.27         60.0                 13.39   \n",
       "2            2100.0          14.33         36.0                  3.50   \n",
       "3           28000.0          16.29         36.0                 19.62   \n",
       "4           24250.0          12.23         60.0                 23.79   \n",
       "\n",
       "   Monthly.Income  Open.CREDIT.Lines  Revolving.CREDIT.Balance  \\\n",
       "0         8606.56               11.0                   15210.0   \n",
       "1         6737.50               14.0                   19070.0   \n",
       "2         1000.00               13.0                     893.0   \n",
       "3         7083.33               12.0                   38194.0   \n",
       "4         5833.33                6.0                   31061.0   \n",
       "\n",
       "   Inquiries.in.the.Last.6.Months  Employment.Length   data  ...  State_MO  \\\n",
       "0                             3.0                5.0  train  ...         0   \n",
       "1                             3.0                4.0  train  ...         0   \n",
       "2                             1.0                0.0  train  ...         0   \n",
       "3                             1.0               10.0  train  ...         0   \n",
       "4                             2.0               10.0  train  ...         0   \n",
       "\n",
       "   State_NV  State_OR  State_SC  State_WI  State_KY  State_LA  State_OK  \\\n",
       "0         0         0         0         0         0         0         0   \n",
       "1         0         0         0         0         0         0         0   \n",
       "2         0         0         0         0         0         1         0   \n",
       "3         1         0         0         0         0         0         0   \n",
       "4         0         0         0         0         0         0         0   \n",
       "\n",
       "   Home.Ownership_MORTGAGE  Home.Ownership_RENT  \n",
       "0                        1                    0  \n",
       "1                        1                    0  \n",
       "2                        0                    0  \n",
       "3                        1                    0  \n",
       "4                        1                    0  \n",
       "\n",
       "[5 rows x 51 columns]"
      ]
     },
     "execution_count": 43,
     "metadata": {},
     "output_type": "execute_result"
    }
   ],
   "source": [
    "Id_all.head()"
   ]
  },
  {
   "cell_type": "code",
   "execution_count": 45,
   "metadata": {},
   "outputs": [
    {
     "data": {
      "text/plain": [
       "Amount.Requested                   float64\n",
       "Interest.Rate                      float64\n",
       "Loan.Length                        float64\n",
       "Debt.To.Income.Ratio               float64\n",
       "Monthly.Income                     float64\n",
       "Open.CREDIT.Lines                  float64\n",
       "Revolving.CREDIT.Balance           float64\n",
       "Inquiries.in.the.Last.6.Months     float64\n",
       "Employment.Length                  float64\n",
       "data                                object\n",
       "fico                               float64\n",
       "Loan.Purpose_debt_consolidation      int32\n",
       "Loan.Purpose_credit_card             int32\n",
       "Loan.Purpose_other                   int32\n",
       "Loan.Purpose_home_improvement        int32\n",
       "Loan.Purpose_major_purchase          int32\n",
       "Loan.Purpose_small_business          int32\n",
       "Loan.Purpose_car                     int32\n",
       "Loan.Purpose_wedding                 int32\n",
       "Loan.Purpose_medical                 int32\n",
       "Loan.Purpose_moving                  int32\n",
       "State_CA                             int32\n",
       "State_NY                             int32\n",
       "State_TX                             int32\n",
       "State_FL                             int32\n",
       "State_IL                             int32\n",
       "State_GA                             int32\n",
       "State_PA                             int32\n",
       "State_NJ                             int32\n",
       "State_VA                             int32\n",
       "State_MA                             int32\n",
       "State_OH                             int32\n",
       "State_MD                             int32\n",
       "State_NC                             int32\n",
       "State_CO                             int32\n",
       "State_WA                             int32\n",
       "State_CT                             int32\n",
       "State_AZ                             int32\n",
       "State_MI                             int32\n",
       "State_AL                             int32\n",
       "State_MN                             int32\n",
       "State_MO                             int32\n",
       "State_NV                             int32\n",
       "State_OR                             int32\n",
       "State_SC                             int32\n",
       "State_WI                             int32\n",
       "State_KY                             int32\n",
       "State_LA                             int32\n",
       "State_OK                             int32\n",
       "Home.Ownership_MORTGAGE              int32\n",
       "Home.Ownership_RENT                  int32\n",
       "dtype: object"
      ]
     },
     "execution_count": 45,
     "metadata": {},
     "output_type": "execute_result"
    }
   ],
   "source": [
    "Id_all.dtypes"
   ]
  },
  {
   "cell_type": "code",
   "execution_count": 49,
   "metadata": {},
   "outputs": [
    {
     "data": {
      "text/plain": [
       "Amount.Requested                     5\n",
       "Interest.Rate                      300\n",
       "Loan.Length                          2\n",
       "Debt.To.Income.Ratio                 1\n",
       "Monthly.Income                       3\n",
       "Open.CREDIT.Lines                    9\n",
       "Revolving.CREDIT.Balance             5\n",
       "Inquiries.in.the.Last.6.Months       3\n",
       "Employment.Length                   80\n",
       "data                                 0\n",
       "fico                                 0\n",
       "Loan.Purpose_debt_consolidation      0\n",
       "Loan.Purpose_credit_card             0\n",
       "Loan.Purpose_other                   0\n",
       "Loan.Purpose_home_improvement        0\n",
       "Loan.Purpose_major_purchase          0\n",
       "Loan.Purpose_small_business          0\n",
       "Loan.Purpose_car                     0\n",
       "Loan.Purpose_wedding                 0\n",
       "Loan.Purpose_medical                 0\n",
       "Loan.Purpose_moving                  0\n",
       "State_CA                             0\n",
       "State_NY                             0\n",
       "State_TX                             0\n",
       "State_FL                             0\n",
       "State_IL                             0\n",
       "State_GA                             0\n",
       "State_PA                             0\n",
       "State_NJ                             0\n",
       "State_VA                             0\n",
       "State_MA                             0\n",
       "State_OH                             0\n",
       "State_MD                             0\n",
       "State_NC                             0\n",
       "State_CO                             0\n",
       "State_WA                             0\n",
       "State_CT                             0\n",
       "State_AZ                             0\n",
       "State_MI                             0\n",
       "State_AL                             0\n",
       "State_MN                             0\n",
       "State_MO                             0\n",
       "State_NV                             0\n",
       "State_OR                             0\n",
       "State_SC                             0\n",
       "State_WI                             0\n",
       "State_KY                             0\n",
       "State_LA                             0\n",
       "State_OK                             0\n",
       "Home.Ownership_MORTGAGE              0\n",
       "Home.Ownership_RENT                  0\n",
       "dtype: int64"
      ]
     },
     "execution_count": 49,
     "metadata": {},
     "output_type": "execute_result"
    }
   ],
   "source": [
    "Id_all.isnull().sum()"
   ]
  },
  {
   "cell_type": "code",
   "execution_count": 68,
   "metadata": {},
   "outputs": [],
   "source": [
    "Id_all['Amount.Requested']=Id_all['Amount.Requested'].fillna(Id_all['Amount.Requested'].mean())"
   ]
  },
  {
   "cell_type": "code",
   "execution_count": 69,
   "metadata": {},
   "outputs": [],
   "source": [
    "Id_all['Loan.Length']=Id_all['Loan.Length'].fillna(Id_all['Loan.Length'].mode())"
   ]
  },
  {
   "cell_type": "code",
   "execution_count": 70,
   "metadata": {},
   "outputs": [],
   "source": [
    "Id_all['Debt.To.Income.Ratio']=Id_all['Debt.To.Income.Ratio'].fillna(Id_all['Debt.To.Income.Ratio'].mean())"
   ]
  },
  {
   "cell_type": "code",
   "execution_count": 71,
   "metadata": {},
   "outputs": [],
   "source": [
    "Id_all['Monthly.Income']=Id_all['Monthly.Income'].fillna(Id_all['Monthly.Income'].mean())"
   ]
  },
  {
   "cell_type": "code",
   "execution_count": 72,
   "metadata": {},
   "outputs": [],
   "source": [
    "Id_all['Open.CREDIT.Lines']=Id_all['Open.CREDIT.Lines'].fillna(Id_all['Open.CREDIT.Lines'].mean())"
   ]
  },
  {
   "cell_type": "code",
   "execution_count": 73,
   "metadata": {},
   "outputs": [],
   "source": [
    "Id_all['Revolving.CREDIT.Balance']=Id_all['Revolving.CREDIT.Balance'].fillna(Id_all['Revolving.CREDIT.Balance'].mean())"
   ]
  },
  {
   "cell_type": "code",
   "execution_count": 74,
   "metadata": {},
   "outputs": [],
   "source": [
    "Id_all['Inquiries.in.the.Last.6.Months']=Id_all['Inquiries.in.the.Last.6.Months'].fillna(Id_all['Inquiries.in.the.Last.6.Months'].mean())"
   ]
  },
  {
   "cell_type": "code",
   "execution_count": 75,
   "metadata": {},
   "outputs": [],
   "source": [
    "Id_all['Employment.Length']=Id_all['Employment.Length'].fillna(Id_all['Employment.Length'].mean())"
   ]
  },
  {
   "cell_type": "code",
   "execution_count": 76,
   "metadata": {},
   "outputs": [
    {
     "data": {
      "text/plain": [
       "Amount.Requested                     0\n",
       "Interest.Rate                      300\n",
       "Loan.Length                          0\n",
       "Debt.To.Income.Ratio                 0\n",
       "Monthly.Income                       0\n",
       "Open.CREDIT.Lines                    0\n",
       "Revolving.CREDIT.Balance             0\n",
       "Inquiries.in.the.Last.6.Months       0\n",
       "Employment.Length                    0\n",
       "data                                 0\n",
       "fico                                 0\n",
       "Loan.Purpose_debt_consolidation      0\n",
       "Loan.Purpose_credit_card             0\n",
       "Loan.Purpose_other                   0\n",
       "Loan.Purpose_home_improvement        0\n",
       "Loan.Purpose_major_purchase          0\n",
       "Loan.Purpose_small_business          0\n",
       "Loan.Purpose_car                     0\n",
       "Loan.Purpose_wedding                 0\n",
       "Loan.Purpose_medical                 0\n",
       "Loan.Purpose_moving                  0\n",
       "State_CA                             0\n",
       "State_NY                             0\n",
       "State_TX                             0\n",
       "State_FL                             0\n",
       "State_IL                             0\n",
       "State_GA                             0\n",
       "State_PA                             0\n",
       "State_NJ                             0\n",
       "State_VA                             0\n",
       "State_MA                             0\n",
       "State_OH                             0\n",
       "State_MD                             0\n",
       "State_NC                             0\n",
       "State_CO                             0\n",
       "State_WA                             0\n",
       "State_CT                             0\n",
       "State_AZ                             0\n",
       "State_MI                             0\n",
       "State_AL                             0\n",
       "State_MN                             0\n",
       "State_MO                             0\n",
       "State_NV                             0\n",
       "State_OR                             0\n",
       "State_SC                             0\n",
       "State_WI                             0\n",
       "State_KY                             0\n",
       "State_LA                             0\n",
       "State_OK                             0\n",
       "Home.Ownership_MORTGAGE              0\n",
       "Home.Ownership_RENT                  0\n",
       "dtype: int64"
      ]
     },
     "execution_count": 76,
     "metadata": {},
     "output_type": "execute_result"
    }
   ],
   "source": [
    "Id_all.isnull().sum()"
   ]
  },
  {
   "cell_type": "code",
   "execution_count": null,
   "metadata": {},
   "outputs": [],
   "source": [
    "# #Sir's code \n",
    "# for col in data.columns:\n",
    "#     if (col not in ['Interest.Rate','data']) & (data[col].isnull().sum()>0):\n",
    "#         data.loc[data[col].isnull(),col]=data.loc[data['data']=='train',col].mean()"
   ]
  },
  {
   "cell_type": "markdown",
   "metadata": {},
   "source": [
    "# Model Building"
   ]
  },
  {
   "cell_type": "code",
   "execution_count": 97,
   "metadata": {},
   "outputs": [
    {
     "data": {
      "text/html": [
       "<div>\n",
       "<style scoped>\n",
       "    .dataframe tbody tr th:only-of-type {\n",
       "        vertical-align: middle;\n",
       "    }\n",
       "\n",
       "    .dataframe tbody tr th {\n",
       "        vertical-align: top;\n",
       "    }\n",
       "\n",
       "    .dataframe thead th {\n",
       "        text-align: right;\n",
       "    }\n",
       "</style>\n",
       "<table border=\"1\" class=\"dataframe\">\n",
       "  <thead>\n",
       "    <tr style=\"text-align: right;\">\n",
       "      <th></th>\n",
       "      <th>Amount.Requested</th>\n",
       "      <th>Interest.Rate</th>\n",
       "      <th>Loan.Length</th>\n",
       "      <th>Debt.To.Income.Ratio</th>\n",
       "      <th>Monthly.Income</th>\n",
       "      <th>Open.CREDIT.Lines</th>\n",
       "      <th>Revolving.CREDIT.Balance</th>\n",
       "      <th>Inquiries.in.the.Last.6.Months</th>\n",
       "      <th>Employment.Length</th>\n",
       "      <th>fico</th>\n",
       "      <th>...</th>\n",
       "      <th>State_MO</th>\n",
       "      <th>State_NV</th>\n",
       "      <th>State_OR</th>\n",
       "      <th>State_SC</th>\n",
       "      <th>State_WI</th>\n",
       "      <th>State_KY</th>\n",
       "      <th>State_LA</th>\n",
       "      <th>State_OK</th>\n",
       "      <th>Home.Ownership_MORTGAGE</th>\n",
       "      <th>Home.Ownership_RENT</th>\n",
       "    </tr>\n",
       "  </thead>\n",
       "  <tbody>\n",
       "    <tr>\n",
       "      <th>0</th>\n",
       "      <td>25000.0</td>\n",
       "      <td>18.49</td>\n",
       "      <td>60.0</td>\n",
       "      <td>27.56</td>\n",
       "      <td>8606.56</td>\n",
       "      <td>11.0</td>\n",
       "      <td>15210.0</td>\n",
       "      <td>3.0</td>\n",
       "      <td>5.0</td>\n",
       "      <td>722.0</td>\n",
       "      <td>...</td>\n",
       "      <td>0</td>\n",
       "      <td>0</td>\n",
       "      <td>0</td>\n",
       "      <td>0</td>\n",
       "      <td>0</td>\n",
       "      <td>0</td>\n",
       "      <td>0</td>\n",
       "      <td>0</td>\n",
       "      <td>1</td>\n",
       "      <td>0</td>\n",
       "    </tr>\n",
       "    <tr>\n",
       "      <th>1</th>\n",
       "      <td>19750.0</td>\n",
       "      <td>17.27</td>\n",
       "      <td>60.0</td>\n",
       "      <td>13.39</td>\n",
       "      <td>6737.50</td>\n",
       "      <td>14.0</td>\n",
       "      <td>19070.0</td>\n",
       "      <td>3.0</td>\n",
       "      <td>4.0</td>\n",
       "      <td>712.0</td>\n",
       "      <td>...</td>\n",
       "      <td>0</td>\n",
       "      <td>0</td>\n",
       "      <td>0</td>\n",
       "      <td>0</td>\n",
       "      <td>0</td>\n",
       "      <td>0</td>\n",
       "      <td>0</td>\n",
       "      <td>0</td>\n",
       "      <td>1</td>\n",
       "      <td>0</td>\n",
       "    </tr>\n",
       "    <tr>\n",
       "      <th>2</th>\n",
       "      <td>2100.0</td>\n",
       "      <td>14.33</td>\n",
       "      <td>36.0</td>\n",
       "      <td>3.50</td>\n",
       "      <td>1000.00</td>\n",
       "      <td>13.0</td>\n",
       "      <td>893.0</td>\n",
       "      <td>1.0</td>\n",
       "      <td>0.0</td>\n",
       "      <td>692.0</td>\n",
       "      <td>...</td>\n",
       "      <td>0</td>\n",
       "      <td>0</td>\n",
       "      <td>0</td>\n",
       "      <td>0</td>\n",
       "      <td>0</td>\n",
       "      <td>0</td>\n",
       "      <td>1</td>\n",
       "      <td>0</td>\n",
       "      <td>0</td>\n",
       "      <td>0</td>\n",
       "    </tr>\n",
       "    <tr>\n",
       "      <th>3</th>\n",
       "      <td>28000.0</td>\n",
       "      <td>16.29</td>\n",
       "      <td>36.0</td>\n",
       "      <td>19.62</td>\n",
       "      <td>7083.33</td>\n",
       "      <td>12.0</td>\n",
       "      <td>38194.0</td>\n",
       "      <td>1.0</td>\n",
       "      <td>10.0</td>\n",
       "      <td>712.0</td>\n",
       "      <td>...</td>\n",
       "      <td>0</td>\n",
       "      <td>1</td>\n",
       "      <td>0</td>\n",
       "      <td>0</td>\n",
       "      <td>0</td>\n",
       "      <td>0</td>\n",
       "      <td>0</td>\n",
       "      <td>0</td>\n",
       "      <td>1</td>\n",
       "      <td>0</td>\n",
       "    </tr>\n",
       "    <tr>\n",
       "      <th>4</th>\n",
       "      <td>24250.0</td>\n",
       "      <td>12.23</td>\n",
       "      <td>60.0</td>\n",
       "      <td>23.79</td>\n",
       "      <td>5833.33</td>\n",
       "      <td>6.0</td>\n",
       "      <td>31061.0</td>\n",
       "      <td>2.0</td>\n",
       "      <td>10.0</td>\n",
       "      <td>732.0</td>\n",
       "      <td>...</td>\n",
       "      <td>0</td>\n",
       "      <td>0</td>\n",
       "      <td>0</td>\n",
       "      <td>0</td>\n",
       "      <td>0</td>\n",
       "      <td>0</td>\n",
       "      <td>0</td>\n",
       "      <td>0</td>\n",
       "      <td>1</td>\n",
       "      <td>0</td>\n",
       "    </tr>\n",
       "  </tbody>\n",
       "</table>\n",
       "<p>5 rows × 50 columns</p>\n",
       "</div>"
      ],
      "text/plain": [
       "   Amount.Requested  Interest.Rate  Loan.Length  Debt.To.Income.Ratio  \\\n",
       "0           25000.0          18.49         60.0                 27.56   \n",
       "1           19750.0          17.27         60.0                 13.39   \n",
       "2            2100.0          14.33         36.0                  3.50   \n",
       "3           28000.0          16.29         36.0                 19.62   \n",
       "4           24250.0          12.23         60.0                 23.79   \n",
       "\n",
       "   Monthly.Income  Open.CREDIT.Lines  Revolving.CREDIT.Balance  \\\n",
       "0         8606.56               11.0                   15210.0   \n",
       "1         6737.50               14.0                   19070.0   \n",
       "2         1000.00               13.0                     893.0   \n",
       "3         7083.33               12.0                   38194.0   \n",
       "4         5833.33                6.0                   31061.0   \n",
       "\n",
       "   Inquiries.in.the.Last.6.Months  Employment.Length   fico  ...  State_MO  \\\n",
       "0                             3.0                5.0  722.0  ...         0   \n",
       "1                             3.0                4.0  712.0  ...         0   \n",
       "2                             1.0                0.0  692.0  ...         0   \n",
       "3                             1.0               10.0  712.0  ...         0   \n",
       "4                             2.0               10.0  732.0  ...         0   \n",
       "\n",
       "   State_NV  State_OR  State_SC  State_WI  State_KY  State_LA  State_OK  \\\n",
       "0         0         0         0         0         0         0         0   \n",
       "1         0         0         0         0         0         0         0   \n",
       "2         0         0         0         0         0         1         0   \n",
       "3         1         0         0         0         0         0         0   \n",
       "4         0         0         0         0         0         0         0   \n",
       "\n",
       "   Home.Ownership_MORTGAGE  Home.Ownership_RENT  \n",
       "0                        1                    0  \n",
       "1                        1                    0  \n",
       "2                        0                    0  \n",
       "3                        1                    0  \n",
       "4                        1                    0  \n",
       "\n",
       "[5 rows x 50 columns]"
      ]
     },
     "execution_count": 97,
     "metadata": {},
     "output_type": "execute_result"
    }
   ],
   "source": [
    "Id_train=Id_all[Id_all['data']=='train']\n",
    "Id_train=Id_train.drop('data',axis=1)\n",
    "Id_train.head()"
   ]
  },
  {
   "cell_type": "code",
   "execution_count": 114,
   "metadata": {},
   "outputs": [
    {
     "data": {
      "text/html": [
       "<div>\n",
       "<style scoped>\n",
       "    .dataframe tbody tr th:only-of-type {\n",
       "        vertical-align: middle;\n",
       "    }\n",
       "\n",
       "    .dataframe tbody tr th {\n",
       "        vertical-align: top;\n",
       "    }\n",
       "\n",
       "    .dataframe thead th {\n",
       "        text-align: right;\n",
       "    }\n",
       "</style>\n",
       "<table border=\"1\" class=\"dataframe\">\n",
       "  <thead>\n",
       "    <tr style=\"text-align: right;\">\n",
       "      <th></th>\n",
       "      <th>Amount.Requested</th>\n",
       "      <th>Loan.Length</th>\n",
       "      <th>Debt.To.Income.Ratio</th>\n",
       "      <th>Monthly.Income</th>\n",
       "      <th>Open.CREDIT.Lines</th>\n",
       "      <th>Revolving.CREDIT.Balance</th>\n",
       "      <th>Inquiries.in.the.Last.6.Months</th>\n",
       "      <th>Employment.Length</th>\n",
       "      <th>fico</th>\n",
       "      <th>Loan.Purpose_debt_consolidation</th>\n",
       "      <th>...</th>\n",
       "      <th>State_MO</th>\n",
       "      <th>State_NV</th>\n",
       "      <th>State_OR</th>\n",
       "      <th>State_SC</th>\n",
       "      <th>State_WI</th>\n",
       "      <th>State_KY</th>\n",
       "      <th>State_LA</th>\n",
       "      <th>State_OK</th>\n",
       "      <th>Home.Ownership_MORTGAGE</th>\n",
       "      <th>Home.Ownership_RENT</th>\n",
       "    </tr>\n",
       "  </thead>\n",
       "  <tbody>\n",
       "    <tr>\n",
       "      <th>0</th>\n",
       "      <td>5000.0</td>\n",
       "      <td>60.0</td>\n",
       "      <td>12.59</td>\n",
       "      <td>4416.67</td>\n",
       "      <td>13.0</td>\n",
       "      <td>7686.0</td>\n",
       "      <td>0.0</td>\n",
       "      <td>0.0</td>\n",
       "      <td>692.0</td>\n",
       "      <td>0</td>\n",
       "      <td>...</td>\n",
       "      <td>0</td>\n",
       "      <td>0</td>\n",
       "      <td>0</td>\n",
       "      <td>0</td>\n",
       "      <td>0</td>\n",
       "      <td>0</td>\n",
       "      <td>0</td>\n",
       "      <td>0</td>\n",
       "      <td>0</td>\n",
       "      <td>1</td>\n",
       "    </tr>\n",
       "    <tr>\n",
       "      <th>1</th>\n",
       "      <td>18000.0</td>\n",
       "      <td>60.0</td>\n",
       "      <td>4.93</td>\n",
       "      <td>5258.50</td>\n",
       "      <td>6.0</td>\n",
       "      <td>11596.0</td>\n",
       "      <td>0.0</td>\n",
       "      <td>10.0</td>\n",
       "      <td>712.0</td>\n",
       "      <td>1</td>\n",
       "      <td>...</td>\n",
       "      <td>0</td>\n",
       "      <td>0</td>\n",
       "      <td>0</td>\n",
       "      <td>0</td>\n",
       "      <td>0</td>\n",
       "      <td>0</td>\n",
       "      <td>0</td>\n",
       "      <td>0</td>\n",
       "      <td>0</td>\n",
       "      <td>1</td>\n",
       "    </tr>\n",
       "    <tr>\n",
       "      <th>2</th>\n",
       "      <td>7200.0</td>\n",
       "      <td>60.0</td>\n",
       "      <td>25.16</td>\n",
       "      <td>3750.00</td>\n",
       "      <td>13.0</td>\n",
       "      <td>7283.0</td>\n",
       "      <td>0.0</td>\n",
       "      <td>6.0</td>\n",
       "      <td>752.0</td>\n",
       "      <td>1</td>\n",
       "      <td>...</td>\n",
       "      <td>0</td>\n",
       "      <td>0</td>\n",
       "      <td>0</td>\n",
       "      <td>0</td>\n",
       "      <td>0</td>\n",
       "      <td>0</td>\n",
       "      <td>1</td>\n",
       "      <td>0</td>\n",
       "      <td>1</td>\n",
       "      <td>0</td>\n",
       "    </tr>\n",
       "    <tr>\n",
       "      <th>3</th>\n",
       "      <td>7200.0</td>\n",
       "      <td>36.0</td>\n",
       "      <td>17.27</td>\n",
       "      <td>3416.67</td>\n",
       "      <td>14.0</td>\n",
       "      <td>4838.0</td>\n",
       "      <td>0.0</td>\n",
       "      <td>10.0</td>\n",
       "      <td>792.0</td>\n",
       "      <td>1</td>\n",
       "      <td>...</td>\n",
       "      <td>0</td>\n",
       "      <td>0</td>\n",
       "      <td>0</td>\n",
       "      <td>0</td>\n",
       "      <td>0</td>\n",
       "      <td>0</td>\n",
       "      <td>0</td>\n",
       "      <td>0</td>\n",
       "      <td>1</td>\n",
       "      <td>0</td>\n",
       "    </tr>\n",
       "    <tr>\n",
       "      <th>4</th>\n",
       "      <td>22000.0</td>\n",
       "      <td>60.0</td>\n",
       "      <td>18.28</td>\n",
       "      <td>6083.33</td>\n",
       "      <td>9.0</td>\n",
       "      <td>20181.0</td>\n",
       "      <td>0.0</td>\n",
       "      <td>8.0</td>\n",
       "      <td>722.0</td>\n",
       "      <td>1</td>\n",
       "      <td>...</td>\n",
       "      <td>0</td>\n",
       "      <td>0</td>\n",
       "      <td>0</td>\n",
       "      <td>0</td>\n",
       "      <td>0</td>\n",
       "      <td>0</td>\n",
       "      <td>0</td>\n",
       "      <td>0</td>\n",
       "      <td>1</td>\n",
       "      <td>0</td>\n",
       "    </tr>\n",
       "  </tbody>\n",
       "</table>\n",
       "<p>5 rows × 49 columns</p>\n",
       "</div>"
      ],
      "text/plain": [
       "   Amount.Requested  Loan.Length  Debt.To.Income.Ratio  Monthly.Income  \\\n",
       "0            5000.0         60.0                 12.59         4416.67   \n",
       "1           18000.0         60.0                  4.93         5258.50   \n",
       "2            7200.0         60.0                 25.16         3750.00   \n",
       "3            7200.0         36.0                 17.27         3416.67   \n",
       "4           22000.0         60.0                 18.28         6083.33   \n",
       "\n",
       "   Open.CREDIT.Lines  Revolving.CREDIT.Balance  \\\n",
       "0               13.0                    7686.0   \n",
       "1                6.0                   11596.0   \n",
       "2               13.0                    7283.0   \n",
       "3               14.0                    4838.0   \n",
       "4                9.0                   20181.0   \n",
       "\n",
       "   Inquiries.in.the.Last.6.Months  Employment.Length   fico  \\\n",
       "0                             0.0                0.0  692.0   \n",
       "1                             0.0               10.0  712.0   \n",
       "2                             0.0                6.0  752.0   \n",
       "3                             0.0               10.0  792.0   \n",
       "4                             0.0                8.0  722.0   \n",
       "\n",
       "   Loan.Purpose_debt_consolidation  ...  State_MO  State_NV  State_OR  \\\n",
       "0                                0  ...         0         0         0   \n",
       "1                                1  ...         0         0         0   \n",
       "2                                1  ...         0         0         0   \n",
       "3                                1  ...         0         0         0   \n",
       "4                                1  ...         0         0         0   \n",
       "\n",
       "   State_SC  State_WI  State_KY  State_LA  State_OK  Home.Ownership_MORTGAGE  \\\n",
       "0         0         0         0         0         0                        0   \n",
       "1         0         0         0         0         0                        0   \n",
       "2         0         0         0         1         0                        1   \n",
       "3         0         0         0         0         0                        1   \n",
       "4         0         0         0         0         0                        1   \n",
       "\n",
       "   Home.Ownership_RENT  \n",
       "0                    1  \n",
       "1                    1  \n",
       "2                    0  \n",
       "3                    0  \n",
       "4                    0  \n",
       "\n",
       "[5 rows x 49 columns]"
      ]
     },
     "execution_count": 114,
     "metadata": {},
     "output_type": "execute_result"
    }
   ],
   "source": [
    "Id_test=Id_all[Id_all['data']=='test']\n",
    "Id_test=Id_test.drop('data',axis=1)\n",
    "x_test=Id_test.drop('Interest.Rate',axis=1)\n",
    "y_test=Id_test['Interest.Rate']\n",
    "x_test.head()"
   ]
  },
  {
   "cell_type": "code",
   "execution_count": 187,
   "metadata": {},
   "outputs": [
    {
     "data": {
      "text/html": [
       "<div>\n",
       "<style scoped>\n",
       "    .dataframe tbody tr th:only-of-type {\n",
       "        vertical-align: middle;\n",
       "    }\n",
       "\n",
       "    .dataframe tbody tr th {\n",
       "        vertical-align: top;\n",
       "    }\n",
       "\n",
       "    .dataframe thead th {\n",
       "        text-align: right;\n",
       "    }\n",
       "</style>\n",
       "<table border=\"1\" class=\"dataframe\">\n",
       "  <thead>\n",
       "    <tr style=\"text-align: right;\">\n",
       "      <th></th>\n",
       "      <th>Amount.Requested</th>\n",
       "      <th>Loan.Length</th>\n",
       "      <th>Debt.To.Income.Ratio</th>\n",
       "      <th>Monthly.Income</th>\n",
       "      <th>Open.CREDIT.Lines</th>\n",
       "      <th>Revolving.CREDIT.Balance</th>\n",
       "      <th>Inquiries.in.the.Last.6.Months</th>\n",
       "      <th>Employment.Length</th>\n",
       "      <th>fico</th>\n",
       "      <th>Loan.Purpose_debt_consolidation</th>\n",
       "      <th>...</th>\n",
       "      <th>State_MO</th>\n",
       "      <th>State_NV</th>\n",
       "      <th>State_OR</th>\n",
       "      <th>State_SC</th>\n",
       "      <th>State_WI</th>\n",
       "      <th>State_KY</th>\n",
       "      <th>State_LA</th>\n",
       "      <th>State_OK</th>\n",
       "      <th>Home.Ownership_MORTGAGE</th>\n",
       "      <th>Home.Ownership_RENT</th>\n",
       "    </tr>\n",
       "  </thead>\n",
       "  <tbody>\n",
       "    <tr>\n",
       "      <th>0</th>\n",
       "      <td>25000.0</td>\n",
       "      <td>60.0</td>\n",
       "      <td>27.56</td>\n",
       "      <td>8606.56</td>\n",
       "      <td>11.0</td>\n",
       "      <td>15210.0</td>\n",
       "      <td>3.0</td>\n",
       "      <td>5.0</td>\n",
       "      <td>722.0</td>\n",
       "      <td>1</td>\n",
       "      <td>...</td>\n",
       "      <td>0</td>\n",
       "      <td>0</td>\n",
       "      <td>0</td>\n",
       "      <td>0</td>\n",
       "      <td>0</td>\n",
       "      <td>0</td>\n",
       "      <td>0</td>\n",
       "      <td>0</td>\n",
       "      <td>1</td>\n",
       "      <td>0</td>\n",
       "    </tr>\n",
       "    <tr>\n",
       "      <th>1</th>\n",
       "      <td>19750.0</td>\n",
       "      <td>60.0</td>\n",
       "      <td>13.39</td>\n",
       "      <td>6737.50</td>\n",
       "      <td>14.0</td>\n",
       "      <td>19070.0</td>\n",
       "      <td>3.0</td>\n",
       "      <td>4.0</td>\n",
       "      <td>712.0</td>\n",
       "      <td>1</td>\n",
       "      <td>...</td>\n",
       "      <td>0</td>\n",
       "      <td>0</td>\n",
       "      <td>0</td>\n",
       "      <td>0</td>\n",
       "      <td>0</td>\n",
       "      <td>0</td>\n",
       "      <td>0</td>\n",
       "      <td>0</td>\n",
       "      <td>1</td>\n",
       "      <td>0</td>\n",
       "    </tr>\n",
       "  </tbody>\n",
       "</table>\n",
       "<p>2 rows × 49 columns</p>\n",
       "</div>"
      ],
      "text/plain": [
       "   Amount.Requested  Loan.Length  Debt.To.Income.Ratio  Monthly.Income  \\\n",
       "0           25000.0         60.0                 27.56         8606.56   \n",
       "1           19750.0         60.0                 13.39         6737.50   \n",
       "\n",
       "   Open.CREDIT.Lines  Revolving.CREDIT.Balance  \\\n",
       "0               11.0                   15210.0   \n",
       "1               14.0                   19070.0   \n",
       "\n",
       "   Inquiries.in.the.Last.6.Months  Employment.Length   fico  \\\n",
       "0                             3.0                5.0  722.0   \n",
       "1                             3.0                4.0  712.0   \n",
       "\n",
       "   Loan.Purpose_debt_consolidation  ...  State_MO  State_NV  State_OR  \\\n",
       "0                                1  ...         0         0         0   \n",
       "1                                1  ...         0         0         0   \n",
       "\n",
       "   State_SC  State_WI  State_KY  State_LA  State_OK  Home.Ownership_MORTGAGE  \\\n",
       "0         0         0         0         0         0                        1   \n",
       "1         0         0         0         0         0                        1   \n",
       "\n",
       "   Home.Ownership_RENT  \n",
       "0                    0  \n",
       "1                    0  \n",
       "\n",
       "[2 rows x 49 columns]"
      ]
     },
     "execution_count": 187,
     "metadata": {},
     "output_type": "execute_result"
    }
   ],
   "source": [
    "x_train=Id_train.drop('Interest.Rate',axis=1)\n",
    "y_train=Id_train['Interest.Rate']\n",
    "x_train.head(2)"
   ]
  },
  {
   "cell_type": "code",
   "execution_count": 100,
   "metadata": {},
   "outputs": [
    {
     "data": {
      "text/plain": [
       "0    18.49\n",
       "1    17.27\n",
       "2    14.33\n",
       "3    16.29\n",
       "4    12.23\n",
       "Name: Interest.Rate, dtype: float64"
      ]
     },
     "execution_count": 100,
     "metadata": {},
     "output_type": "execute_result"
    }
   ],
   "source": [
    "y_train.head()"
   ]
  },
  {
   "cell_type": "code",
   "execution_count": 101,
   "metadata": {},
   "outputs": [
    {
     "data": {
      "text/plain": [
       "(2200, 49)"
      ]
     },
     "execution_count": 101,
     "metadata": {},
     "output_type": "execute_result"
    }
   ],
   "source": [
    "x_train.shape"
   ]
  },
  {
   "cell_type": "code",
   "execution_count": 102,
   "metadata": {},
   "outputs": [
    {
     "data": {
      "text/plain": [
       "Amount.Requested                   float64\n",
       "Loan.Length                        float64\n",
       "Debt.To.Income.Ratio               float64\n",
       "Monthly.Income                     float64\n",
       "Open.CREDIT.Lines                  float64\n",
       "Revolving.CREDIT.Balance           float64\n",
       "Inquiries.in.the.Last.6.Months     float64\n",
       "Employment.Length                  float64\n",
       "fico                               float64\n",
       "Loan.Purpose_debt_consolidation      int32\n",
       "Loan.Purpose_credit_card             int32\n",
       "Loan.Purpose_other                   int32\n",
       "Loan.Purpose_home_improvement        int32\n",
       "Loan.Purpose_major_purchase          int32\n",
       "Loan.Purpose_small_business          int32\n",
       "Loan.Purpose_car                     int32\n",
       "Loan.Purpose_wedding                 int32\n",
       "Loan.Purpose_medical                 int32\n",
       "Loan.Purpose_moving                  int32\n",
       "State_CA                             int32\n",
       "State_NY                             int32\n",
       "State_TX                             int32\n",
       "State_FL                             int32\n",
       "State_IL                             int32\n",
       "State_GA                             int32\n",
       "State_PA                             int32\n",
       "State_NJ                             int32\n",
       "State_VA                             int32\n",
       "State_MA                             int32\n",
       "State_OH                             int32\n",
       "State_MD                             int32\n",
       "State_NC                             int32\n",
       "State_CO                             int32\n",
       "State_WA                             int32\n",
       "State_CT                             int32\n",
       "State_AZ                             int32\n",
       "State_MI                             int32\n",
       "State_AL                             int32\n",
       "State_MN                             int32\n",
       "State_MO                             int32\n",
       "State_NV                             int32\n",
       "State_OR                             int32\n",
       "State_SC                             int32\n",
       "State_WI                             int32\n",
       "State_KY                             int32\n",
       "State_LA                             int32\n",
       "State_OK                             int32\n",
       "Home.Ownership_MORTGAGE              int32\n",
       "Home.Ownership_RENT                  int32\n",
       "dtype: object"
      ]
     },
     "execution_count": 102,
     "metadata": {},
     "output_type": "execute_result"
    }
   ],
   "source": [
    "x_train.dtypes"
   ]
  },
  {
   "cell_type": "code",
   "execution_count": 119,
   "metadata": {},
   "outputs": [
    {
     "data": {
      "text/plain": [
       "dtype('float64')"
      ]
     },
     "execution_count": 119,
     "metadata": {},
     "output_type": "execute_result"
    }
   ],
   "source": [
    "y_train.dtypes"
   ]
  },
  {
   "cell_type": "code",
   "execution_count": 120,
   "metadata": {},
   "outputs": [
    {
     "data": {
      "text/plain": [
       "dtype('float64')"
      ]
     },
     "execution_count": 120,
     "metadata": {},
     "output_type": "execute_result"
    }
   ],
   "source": [
    "y_test.dtypes"
   ]
  },
  {
   "cell_type": "code",
   "execution_count": 103,
   "metadata": {},
   "outputs": [
    {
     "data": {
      "text/plain": [
       "(2200,)"
      ]
     },
     "execution_count": 103,
     "metadata": {},
     "output_type": "execute_result"
    }
   ],
   "source": [
    "y_train.shape"
   ]
  },
  {
   "cell_type": "code",
   "execution_count": 104,
   "metadata": {},
   "outputs": [],
   "source": [
    "from sklearn import linear_model\n",
    "from sklearn.linear_model import LinearRegression"
   ]
  },
  {
   "cell_type": "code",
   "execution_count": 105,
   "metadata": {},
   "outputs": [
    {
     "data": {
      "text/plain": [
       "LinearRegression(copy_X=True, fit_intercept=True, n_jobs=None, normalize=False)"
      ]
     },
     "execution_count": 105,
     "metadata": {},
     "output_type": "execute_result"
    }
   ],
   "source": [
    "lr = LinearRegression()\n",
    "lr.fit(x_train, y_train)"
   ]
  },
  {
   "cell_type": "code",
   "execution_count": 108,
   "metadata": {},
   "outputs": [
    {
     "data": {
      "text/plain": [
       "Ridge(alpha=0.01, copy_X=True, fit_intercept=True, max_iter=None,\n",
       "      normalize=False, random_state=None, solver='auto', tol=0.001)"
      ]
     },
     "execution_count": 108,
     "metadata": {},
     "output_type": "execute_result"
    }
   ],
   "source": [
    "# higher the alpha value, more restriction on the coefficients; \n",
    "# low alpha > more generalization, coefficients are barely\n",
    "rr = Ridge(alpha=0.01) \n",
    "# restricted and in this case linear and ridge regression resembles\n",
    "rr.fit(x_train, y_train)"
   ]
  },
  {
   "cell_type": "code",
   "execution_count": null,
   "metadata": {},
   "outputs": [],
   "source": [
    "\n"
   ]
  },
  {
   "cell_type": "code",
   "execution_count": 127,
   "metadata": {},
   "outputs": [],
   "source": []
  },
  {
   "cell_type": "code",
   "execution_count": 188,
   "metadata": {},
   "outputs": [
    {
     "name": "stdout",
     "output_type": "stream",
     "text": [
      "1540\n",
      "1540\n",
      "660\n",
      "660\n"
     ]
    }
   ],
   "source": [
    "from sklearn.model_selection import train_test_split\n",
    "x_train_train,x_train_test,y_train_train,y_train_test=train_test_split(x_train,y_train,test_size=0.3,random_state=3)\n",
    "\n",
    "print(len(x_train_train))\n",
    "print(len(y_train_train))\n",
    "print(len(x_train_test))\n",
    "print(len(y_train_test))"
   ]
  },
  {
   "cell_type": "code",
   "execution_count": 135,
   "metadata": {},
   "outputs": [
    {
     "name": "stdout",
     "output_type": "stream",
     "text": [
      "0.7709673640878852\n",
      "0.7499700770438501\n"
     ]
    }
   ],
   "source": [
    "train_score=lr.score(x_train_train, y_train_train)\n",
    "test_score=lr.score(x_train_test, y_train_test)\n",
    "print(train_score)\n",
    "print(test_score)"
   ]
  },
  {
   "cell_type": "code",
   "execution_count": 136,
   "metadata": {},
   "outputs": [
    {
     "name": "stdout",
     "output_type": "stream",
     "text": [
      "0.770967560715764\n",
      "0.7499695963242432\n"
     ]
    }
   ],
   "source": [
    "Ridge_train_score=rr.score(x_train_train, y_train_train)\n",
    "Ridge_test_score=rr.score(x_train_test, y_train_test)\n",
    "print(Ridge_train_score)\n",
    "print(Ridge_test_score)"
   ]
  },
  {
   "cell_type": "code",
   "execution_count": 137,
   "metadata": {},
   "outputs": [],
   "source": [
    "from sklearn.linear_model import Lasso\n",
    "from sklearn.linear_model import LinearRegression"
   ]
  },
  {
   "cell_type": "code",
   "execution_count": 168,
   "metadata": {},
   "outputs": [
    {
     "name": "stdout",
     "output_type": "stream",
     "text": [
      "training score: 0.7696347625240441\n",
      "test score:  0.7429693755412867\n"
     ]
    }
   ],
   "source": [
    "lasso = Lasso(alpha=.007)\n",
    "lasso.fit(x_train_train,y_train_train)\n",
    "train_score=lasso.score(x_train_train,y_train_train)\n",
    "test_score=lasso.score(x_train_test,y_train_test)\n",
    "coeff_used = np.sum(lasso.coef_!=0)\n",
    "print(\"training score:\", train_score)\n",
    "print(\"test score: \", test_score)"
   ]
  },
  {
   "cell_type": "code",
   "execution_count": 148,
   "metadata": {},
   "outputs": [
    {
     "name": "stdout",
     "output_type": "stream",
     "text": [
      "training score: 0.6784804932466961\n"
     ]
    }
   ],
   "source": []
  },
  {
   "cell_type": "code",
   "execution_count": 149,
   "metadata": {},
   "outputs": [
    {
     "name": "stdout",
     "output_type": "stream",
     "text": [
      "test score:  0.6425978274075081\n"
     ]
    }
   ],
   "source": []
  },
  {
   "cell_type": "code",
   "execution_count": 146,
   "metadata": {},
   "outputs": [
    {
     "name": "stdout",
     "output_type": "stream",
     "text": [
      "number of features used:  5\n"
     ]
    }
   ],
   "source": [
    "print(\"number of features used: \", coeff_used)"
   ]
  },
  {
   "cell_type": "code",
   "execution_count": 184,
   "metadata": {},
   "outputs": [
    {
     "data": {
      "text/html": [
       "<table class=\"simpletable\">\n",
       "<caption>OLS Regression Results</caption>\n",
       "<tr>\n",
       "  <th>Dep. Variable:</th>      <td>Interest.Rate</td>  <th>  R-squared:         </th> <td>   0.773</td>\n",
       "</tr>\n",
       "<tr>\n",
       "  <th>Model:</th>                   <td>OLS</td>       <th>  Adj. R-squared:    </th> <td>   0.765</td>\n",
       "</tr>\n",
       "<tr>\n",
       "  <th>Method:</th>             <td>Least Squares</td>  <th>  F-statistic:       </th> <td>   103.3</td>\n",
       "</tr>\n",
       "<tr>\n",
       "  <th>Date:</th>             <td>Thu, 17 Oct 2019</td> <th>  Prob (F-statistic):</th>  <td>  0.00</td> \n",
       "</tr>\n",
       "<tr>\n",
       "  <th>Time:</th>                 <td>14:44:53</td>     <th>  Log-Likelihood:    </th> <td> -3252.4</td>\n",
       "</tr>\n",
       "<tr>\n",
       "  <th>No. Observations:</th>      <td>  1540</td>      <th>  AIC:               </th> <td>   6605.</td>\n",
       "</tr>\n",
       "<tr>\n",
       "  <th>Df Residuals:</th>          <td>  1490</td>      <th>  BIC:               </th> <td>   6872.</td>\n",
       "</tr>\n",
       "<tr>\n",
       "  <th>Df Model:</th>              <td>    49</td>      <th>                     </th>     <td> </td>   \n",
       "</tr>\n",
       "<tr>\n",
       "  <th>Covariance Type:</th>      <td>nonrobust</td>    <th>                     </th>     <td> </td>   \n",
       "</tr>\n",
       "</table>\n",
       "<table class=\"simpletable\">\n",
       "<tr>\n",
       "                 <td></td>                    <th>coef</th>     <th>std err</th>      <th>t</th>      <th>P>|t|</th>  <th>[0.025</th>    <th>0.975]</th>  \n",
       "</tr>\n",
       "<tr>\n",
       "  <th>const</th>                           <td>   67.7286</td> <td>    1.273</td> <td>   53.206</td> <td> 0.000</td> <td>   65.232</td> <td>   70.226</td>\n",
       "</tr>\n",
       "<tr>\n",
       "  <th>Amount.Requested</th>                <td>    0.0002</td> <td>  8.4e-06</td> <td>   19.506</td> <td> 0.000</td> <td>    0.000</td> <td>    0.000</td>\n",
       "</tr>\n",
       "<tr>\n",
       "  <th>Loan.Length</th>                     <td>    0.1334</td> <td>    0.006</td> <td>   22.457</td> <td> 0.000</td> <td>    0.122</td> <td>    0.145</td>\n",
       "</tr>\n",
       "<tr>\n",
       "  <th>Debt.To.Income.Ratio</th>            <td> 5.285e-05</td> <td>    0.008</td> <td>    0.006</td> <td> 0.995</td> <td>   -0.016</td> <td>    0.016</td>\n",
       "</tr>\n",
       "<tr>\n",
       "  <th>Monthly.Income</th>                  <td>-2.445e-05</td> <td> 1.42e-05</td> <td>   -1.726</td> <td> 0.085</td> <td>-5.22e-05</td> <td> 3.34e-06</td>\n",
       "</tr>\n",
       "<tr>\n",
       "  <th>Open.CREDIT.Lines</th>               <td>   -0.0330</td> <td>    0.013</td> <td>   -2.501</td> <td> 0.013</td> <td>   -0.059</td> <td>   -0.007</td>\n",
       "</tr>\n",
       "<tr>\n",
       "  <th>Revolving.CREDIT.Balance</th>        <td>-3.707e-06</td> <td> 3.06e-06</td> <td>   -1.211</td> <td> 0.226</td> <td>-9.71e-06</td> <td>  2.3e-06</td>\n",
       "</tr>\n",
       "<tr>\n",
       "  <th>Inquiries.in.the.Last.6.Months</th>  <td>    0.3504</td> <td>    0.044</td> <td>    7.878</td> <td> 0.000</td> <td>    0.263</td> <td>    0.438</td>\n",
       "</tr>\n",
       "<tr>\n",
       "  <th>Employment.Length</th>               <td>    0.0175</td> <td>    0.015</td> <td>    1.137</td> <td> 0.256</td> <td>   -0.013</td> <td>    0.048</td>\n",
       "</tr>\n",
       "<tr>\n",
       "  <th>fico</th>                            <td>   -0.0862</td> <td>    0.002</td> <td>  -53.941</td> <td> 0.000</td> <td>   -0.089</td> <td>   -0.083</td>\n",
       "</tr>\n",
       "<tr>\n",
       "  <th>Loan.Purpose_debt_consolidation</th> <td>   -0.7179</td> <td>    0.324</td> <td>   -2.219</td> <td> 0.027</td> <td>   -1.352</td> <td>   -0.083</td>\n",
       "</tr>\n",
       "<tr>\n",
       "  <th>Loan.Purpose_credit_card</th>        <td>   -0.7575</td> <td>    0.337</td> <td>   -2.246</td> <td> 0.025</td> <td>   -1.419</td> <td>   -0.096</td>\n",
       "</tr>\n",
       "<tr>\n",
       "  <th>Loan.Purpose_other</th>              <td>    0.1017</td> <td>    0.363</td> <td>    0.280</td> <td> 0.779</td> <td>   -0.610</td> <td>    0.814</td>\n",
       "</tr>\n",
       "<tr>\n",
       "  <th>Loan.Purpose_home_improvement</th>   <td>   -0.8464</td> <td>    0.386</td> <td>   -2.195</td> <td> 0.028</td> <td>   -1.603</td> <td>   -0.090</td>\n",
       "</tr>\n",
       "<tr>\n",
       "  <th>Loan.Purpose_major_purchase</th>     <td>   -0.3530</td> <td>    0.407</td> <td>   -0.867</td> <td> 0.386</td> <td>   -1.152</td> <td>    0.446</td>\n",
       "</tr>\n",
       "<tr>\n",
       "  <th>Loan.Purpose_small_business</th>     <td>   -0.6666</td> <td>    0.434</td> <td>   -1.535</td> <td> 0.125</td> <td>   -1.519</td> <td>    0.186</td>\n",
       "</tr>\n",
       "<tr>\n",
       "  <th>Loan.Purpose_car</th>                <td>   -0.5641</td> <td>    0.503</td> <td>   -1.122</td> <td> 0.262</td> <td>   -1.551</td> <td>    0.422</td>\n",
       "</tr>\n",
       "<tr>\n",
       "  <th>Loan.Purpose_wedding</th>            <td>   -0.8920</td> <td>    0.510</td> <td>   -1.749</td> <td> 0.080</td> <td>   -1.892</td> <td>    0.108</td>\n",
       "</tr>\n",
       "<tr>\n",
       "  <th>Loan.Purpose_medical</th>            <td>   -0.4412</td> <td>    0.565</td> <td>   -0.781</td> <td> 0.435</td> <td>   -1.549</td> <td>    0.667</td>\n",
       "</tr>\n",
       "<tr>\n",
       "  <th>Loan.Purpose_moving</th>             <td>    0.5873</td> <td>    0.613</td> <td>    0.958</td> <td> 0.338</td> <td>   -0.615</td> <td>    1.790</td>\n",
       "</tr>\n",
       "<tr>\n",
       "  <th>State_CA</th>                        <td>   -0.2548</td> <td>    0.229</td> <td>   -1.113</td> <td> 0.266</td> <td>   -0.704</td> <td>    0.194</td>\n",
       "</tr>\n",
       "<tr>\n",
       "  <th>State_NY</th>                        <td>   -0.2138</td> <td>    0.257</td> <td>   -0.833</td> <td> 0.405</td> <td>   -0.717</td> <td>    0.290</td>\n",
       "</tr>\n",
       "<tr>\n",
       "  <th>State_TX</th>                        <td>    0.3377</td> <td>    0.278</td> <td>    1.214</td> <td> 0.225</td> <td>   -0.208</td> <td>    0.883</td>\n",
       "</tr>\n",
       "<tr>\n",
       "  <th>State_FL</th>                        <td>   -0.1090</td> <td>    0.278</td> <td>   -0.391</td> <td> 0.696</td> <td>   -0.655</td> <td>    0.437</td>\n",
       "</tr>\n",
       "<tr>\n",
       "  <th>State_IL</th>                        <td>   -0.5092</td> <td>    0.309</td> <td>   -1.647</td> <td> 0.100</td> <td>   -1.116</td> <td>    0.097</td>\n",
       "</tr>\n",
       "<tr>\n",
       "  <th>State_GA</th>                        <td>   -0.3238</td> <td>    0.329</td> <td>   -0.984</td> <td> 0.325</td> <td>   -0.969</td> <td>    0.322</td>\n",
       "</tr>\n",
       "<tr>\n",
       "  <th>State_PA</th>                        <td>   -0.6293</td> <td>    0.318</td> <td>   -1.977</td> <td> 0.048</td> <td>   -1.254</td> <td>   -0.005</td>\n",
       "</tr>\n",
       "<tr>\n",
       "  <th>State_NJ</th>                        <td>   -0.3843</td> <td>    0.314</td> <td>   -1.223</td> <td> 0.222</td> <td>   -1.001</td> <td>    0.232</td>\n",
       "</tr>\n",
       "<tr>\n",
       "  <th>State_VA</th>                        <td>   -0.4235</td> <td>    0.353</td> <td>   -1.199</td> <td> 0.231</td> <td>   -1.116</td> <td>    0.269</td>\n",
       "</tr>\n",
       "<tr>\n",
       "  <th>State_MA</th>                        <td>   -0.1488</td> <td>    0.357</td> <td>   -0.417</td> <td> 0.677</td> <td>   -0.849</td> <td>    0.551</td>\n",
       "</tr>\n",
       "<tr>\n",
       "  <th>State_OH</th>                        <td>   -0.1866</td> <td>    0.379</td> <td>   -0.493</td> <td> 0.622</td> <td>   -0.929</td> <td>    0.556</td>\n",
       "</tr>\n",
       "<tr>\n",
       "  <th>State_MD</th>                        <td>   -0.0870</td> <td>    0.393</td> <td>   -0.221</td> <td> 0.825</td> <td>   -0.859</td> <td>    0.685</td>\n",
       "</tr>\n",
       "<tr>\n",
       "  <th>State_NC</th>                        <td>   -0.5436</td> <td>    0.388</td> <td>   -1.403</td> <td> 0.161</td> <td>   -1.304</td> <td>    0.216</td>\n",
       "</tr>\n",
       "<tr>\n",
       "  <th>State_CO</th>                        <td>    0.2796</td> <td>    0.375</td> <td>    0.747</td> <td> 0.455</td> <td>   -0.455</td> <td>    1.014</td>\n",
       "</tr>\n",
       "<tr>\n",
       "  <th>State_WA</th>                        <td>   -0.1867</td> <td>    0.385</td> <td>   -0.485</td> <td> 0.628</td> <td>   -0.943</td> <td>    0.569</td>\n",
       "</tr>\n",
       "<tr>\n",
       "  <th>State_CT</th>                        <td>    0.4610</td> <td>    0.443</td> <td>    1.040</td> <td> 0.298</td> <td>   -0.408</td> <td>    1.330</td>\n",
       "</tr>\n",
       "<tr>\n",
       "  <th>State_AZ</th>                        <td>    0.2296</td> <td>    0.408</td> <td>    0.564</td> <td> 0.573</td> <td>   -0.570</td> <td>    1.029</td>\n",
       "</tr>\n",
       "<tr>\n",
       "  <th>State_MI</th>                        <td>    0.0844</td> <td>    0.419</td> <td>    0.202</td> <td> 0.840</td> <td>   -0.737</td> <td>    0.906</td>\n",
       "</tr>\n",
       "<tr>\n",
       "  <th>State_AL</th>                        <td>   -0.3991</td> <td>    0.444</td> <td>   -0.899</td> <td> 0.369</td> <td>   -1.270</td> <td>    0.472</td>\n",
       "</tr>\n",
       "<tr>\n",
       "  <th>State_MN</th>                        <td>   -0.2868</td> <td>    0.484</td> <td>   -0.592</td> <td> 0.554</td> <td>   -1.237</td> <td>    0.664</td>\n",
       "</tr>\n",
       "<tr>\n",
       "  <th>State_MO</th>                        <td>   -0.2995</td> <td>    0.450</td> <td>   -0.666</td> <td> 0.506</td> <td>   -1.182</td> <td>    0.583</td>\n",
       "</tr>\n",
       "<tr>\n",
       "  <th>State_NV</th>                        <td>   -0.1399</td> <td>    0.475</td> <td>   -0.295</td> <td> 0.768</td> <td>   -1.071</td> <td>    0.791</td>\n",
       "</tr>\n",
       "<tr>\n",
       "  <th>State_OR</th>                        <td>    0.5035</td> <td>    0.520</td> <td>    0.968</td> <td> 0.333</td> <td>   -0.516</td> <td>    1.523</td>\n",
       "</tr>\n",
       "<tr>\n",
       "  <th>State_SC</th>                        <td>    0.0512</td> <td>    0.545</td> <td>    0.094</td> <td> 0.925</td> <td>   -1.017</td> <td>    1.120</td>\n",
       "</tr>\n",
       "<tr>\n",
       "  <th>State_WI</th>                        <td>   -0.1074</td> <td>    0.559</td> <td>   -0.192</td> <td> 0.848</td> <td>   -1.205</td> <td>    0.990</td>\n",
       "</tr>\n",
       "<tr>\n",
       "  <th>State_KY</th>                        <td>   -0.0655</td> <td>    0.645</td> <td>   -0.102</td> <td> 0.919</td> <td>   -1.330</td> <td>    1.199</td>\n",
       "</tr>\n",
       "<tr>\n",
       "  <th>State_LA</th>                        <td>   -0.4819</td> <td>    0.623</td> <td>   -0.774</td> <td> 0.439</td> <td>   -1.703</td> <td>    0.740</td>\n",
       "</tr>\n",
       "<tr>\n",
       "  <th>State_OK</th>                        <td>   -0.7803</td> <td>    0.621</td> <td>   -1.257</td> <td> 0.209</td> <td>   -1.998</td> <td>    0.437</td>\n",
       "</tr>\n",
       "<tr>\n",
       "  <th>Home.Ownership_MORTGAGE</th>         <td>   -0.4570</td> <td>    0.207</td> <td>   -2.209</td> <td> 0.027</td> <td>   -0.863</td> <td>   -0.051</td>\n",
       "</tr>\n",
       "<tr>\n",
       "  <th>Home.Ownership_RENT</th>             <td>   -0.2171</td> <td>    0.205</td> <td>   -1.061</td> <td> 0.289</td> <td>   -0.619</td> <td>    0.184</td>\n",
       "</tr>\n",
       "</table>\n",
       "<table class=\"simpletable\">\n",
       "<tr>\n",
       "  <th>Omnibus:</th>       <td>92.738</td> <th>  Durbin-Watson:     </th> <td>   2.005</td>\n",
       "</tr>\n",
       "<tr>\n",
       "  <th>Prob(Omnibus):</th> <td> 0.000</td> <th>  Jarque-Bera (JB):  </th> <td> 142.449</td>\n",
       "</tr>\n",
       "<tr>\n",
       "  <th>Skew:</th>          <td> 0.490</td> <th>  Prob(JB):          </th> <td>1.17e-31</td>\n",
       "</tr>\n",
       "<tr>\n",
       "  <th>Kurtosis:</th>      <td> 4.123</td> <th>  Cond. No.          </th> <td>7.27e+05</td>\n",
       "</tr>\n",
       "</table><br/><br/>Warnings:<br/>[1] Standard Errors assume that the covariance matrix of the errors is correctly specified.<br/>[2] The condition number is large, 7.27e+05. This might indicate that there are<br/>strong multicollinearity or other numerical problems."
      ],
      "text/plain": [
       "<class 'statsmodels.iolib.summary.Summary'>\n",
       "\"\"\"\n",
       "                            OLS Regression Results                            \n",
       "==============================================================================\n",
       "Dep. Variable:          Interest.Rate   R-squared:                       0.773\n",
       "Model:                            OLS   Adj. R-squared:                  0.765\n",
       "Method:                 Least Squares   F-statistic:                     103.3\n",
       "Date:                Thu, 17 Oct 2019   Prob (F-statistic):               0.00\n",
       "Time:                        14:44:53   Log-Likelihood:                -3252.4\n",
       "No. Observations:                1540   AIC:                             6605.\n",
       "Df Residuals:                    1490   BIC:                             6872.\n",
       "Df Model:                          49                                         \n",
       "Covariance Type:            nonrobust                                         \n",
       "===================================================================================================\n",
       "                                      coef    std err          t      P>|t|      [0.025      0.975]\n",
       "---------------------------------------------------------------------------------------------------\n",
       "const                              67.7286      1.273     53.206      0.000      65.232      70.226\n",
       "Amount.Requested                    0.0002    8.4e-06     19.506      0.000       0.000       0.000\n",
       "Loan.Length                         0.1334      0.006     22.457      0.000       0.122       0.145\n",
       "Debt.To.Income.Ratio             5.285e-05      0.008      0.006      0.995      -0.016       0.016\n",
       "Monthly.Income                  -2.445e-05   1.42e-05     -1.726      0.085   -5.22e-05    3.34e-06\n",
       "Open.CREDIT.Lines                  -0.0330      0.013     -2.501      0.013      -0.059      -0.007\n",
       "Revolving.CREDIT.Balance        -3.707e-06   3.06e-06     -1.211      0.226   -9.71e-06     2.3e-06\n",
       "Inquiries.in.the.Last.6.Months      0.3504      0.044      7.878      0.000       0.263       0.438\n",
       "Employment.Length                   0.0175      0.015      1.137      0.256      -0.013       0.048\n",
       "fico                               -0.0862      0.002    -53.941      0.000      -0.089      -0.083\n",
       "Loan.Purpose_debt_consolidation    -0.7179      0.324     -2.219      0.027      -1.352      -0.083\n",
       "Loan.Purpose_credit_card           -0.7575      0.337     -2.246      0.025      -1.419      -0.096\n",
       "Loan.Purpose_other                  0.1017      0.363      0.280      0.779      -0.610       0.814\n",
       "Loan.Purpose_home_improvement      -0.8464      0.386     -2.195      0.028      -1.603      -0.090\n",
       "Loan.Purpose_major_purchase        -0.3530      0.407     -0.867      0.386      -1.152       0.446\n",
       "Loan.Purpose_small_business        -0.6666      0.434     -1.535      0.125      -1.519       0.186\n",
       "Loan.Purpose_car                   -0.5641      0.503     -1.122      0.262      -1.551       0.422\n",
       "Loan.Purpose_wedding               -0.8920      0.510     -1.749      0.080      -1.892       0.108\n",
       "Loan.Purpose_medical               -0.4412      0.565     -0.781      0.435      -1.549       0.667\n",
       "Loan.Purpose_moving                 0.5873      0.613      0.958      0.338      -0.615       1.790\n",
       "State_CA                           -0.2548      0.229     -1.113      0.266      -0.704       0.194\n",
       "State_NY                           -0.2138      0.257     -0.833      0.405      -0.717       0.290\n",
       "State_TX                            0.3377      0.278      1.214      0.225      -0.208       0.883\n",
       "State_FL                           -0.1090      0.278     -0.391      0.696      -0.655       0.437\n",
       "State_IL                           -0.5092      0.309     -1.647      0.100      -1.116       0.097\n",
       "State_GA                           -0.3238      0.329     -0.984      0.325      -0.969       0.322\n",
       "State_PA                           -0.6293      0.318     -1.977      0.048      -1.254      -0.005\n",
       "State_NJ                           -0.3843      0.314     -1.223      0.222      -1.001       0.232\n",
       "State_VA                           -0.4235      0.353     -1.199      0.231      -1.116       0.269\n",
       "State_MA                           -0.1488      0.357     -0.417      0.677      -0.849       0.551\n",
       "State_OH                           -0.1866      0.379     -0.493      0.622      -0.929       0.556\n",
       "State_MD                           -0.0870      0.393     -0.221      0.825      -0.859       0.685\n",
       "State_NC                           -0.5436      0.388     -1.403      0.161      -1.304       0.216\n",
       "State_CO                            0.2796      0.375      0.747      0.455      -0.455       1.014\n",
       "State_WA                           -0.1867      0.385     -0.485      0.628      -0.943       0.569\n",
       "State_CT                            0.4610      0.443      1.040      0.298      -0.408       1.330\n",
       "State_AZ                            0.2296      0.408      0.564      0.573      -0.570       1.029\n",
       "State_MI                            0.0844      0.419      0.202      0.840      -0.737       0.906\n",
       "State_AL                           -0.3991      0.444     -0.899      0.369      -1.270       0.472\n",
       "State_MN                           -0.2868      0.484     -0.592      0.554      -1.237       0.664\n",
       "State_MO                           -0.2995      0.450     -0.666      0.506      -1.182       0.583\n",
       "State_NV                           -0.1399      0.475     -0.295      0.768      -1.071       0.791\n",
       "State_OR                            0.5035      0.520      0.968      0.333      -0.516       1.523\n",
       "State_SC                            0.0512      0.545      0.094      0.925      -1.017       1.120\n",
       "State_WI                           -0.1074      0.559     -0.192      0.848      -1.205       0.990\n",
       "State_KY                           -0.0655      0.645     -0.102      0.919      -1.330       1.199\n",
       "State_LA                           -0.4819      0.623     -0.774      0.439      -1.703       0.740\n",
       "State_OK                           -0.7803      0.621     -1.257      0.209      -1.998       0.437\n",
       "Home.Ownership_MORTGAGE            -0.4570      0.207     -2.209      0.027      -0.863      -0.051\n",
       "Home.Ownership_RENT                -0.2171      0.205     -1.061      0.289      -0.619       0.184\n",
       "==============================================================================\n",
       "Omnibus:                       92.738   Durbin-Watson:                   2.005\n",
       "Prob(Omnibus):                  0.000   Jarque-Bera (JB):              142.449\n",
       "Skew:                           0.490   Prob(JB):                     1.17e-31\n",
       "Kurtosis:                       4.123   Cond. No.                     7.27e+05\n",
       "==============================================================================\n",
       "\n",
       "Warnings:\n",
       "[1] Standard Errors assume that the covariance matrix of the errors is correctly specified.\n",
       "[2] The condition number is large, 7.27e+05. This might indicate that there are\n",
       "strong multicollinearity or other numerical problems.\n",
       "\"\"\""
      ]
     },
     "execution_count": 184,
     "metadata": {},
     "output_type": "execute_result"
    }
   ],
   "source": [
    "import warnings\n",
    "warnings.filterwarnings('ignore')\n",
    "import statsmodels.api as sm\n",
    "\n",
    "x_constant = sm.add_constant(x_train_train)\n",
    "lin_reg=sm.OLS(y_train_train,x_constant).fit()\n",
    "lin_reg.summary()"
   ]
  },
  {
   "cell_type": "code",
   "execution_count": 189,
   "metadata": {},
   "outputs": [],
   "source": [
    "predicted_ir=lr.predict(x_train_test)"
   ]
  },
  {
   "cell_type": "code",
   "execution_count": 190,
   "metadata": {},
   "outputs": [],
   "source": [
    "from sklearn.metrics import mean_absolute_error"
   ]
  },
  {
   "cell_type": "code",
   "execution_count": 191,
   "metadata": {},
   "outputs": [
    {
     "data": {
      "text/plain": [
       "1.6315269944969077"
      ]
     },
     "execution_count": 191,
     "metadata": {},
     "output_type": "execute_result"
    }
   ],
   "source": [
    "mean_absolute_error(y_train_test,predicted_ir)"
   ]
  },
  {
   "cell_type": "code",
   "execution_count": 193,
   "metadata": {},
   "outputs": [],
   "source": [
    "from sklearn.linear_model import Ridge,Lasso\n",
    "from sklearn.model_selection import GridSearchCV"
   ]
  },
  {
   "cell_type": "code",
   "execution_count": 196,
   "metadata": {},
   "outputs": [
    {
     "data": {
      "text/plain": [
       "GridSearchCV(cv=10, error_score='raise-deprecating',\n",
       "             estimator=Ridge(alpha=1.0, copy_X=True, fit_intercept=True,\n",
       "                             max_iter=None, normalize=False, random_state=None,\n",
       "                             solver='auto', tol=0.001),\n",
       "             iid='warn', n_jobs=None,\n",
       "             param_grid={'alpha': array([  1.,   2.,   3.,   4.,   5.,   6.,   7.,   8.,   9.,  10.,  11.,\n",
       "        12.,  13.,  14.,  15.,  16.,  17.,  18.,  19.,  20.,  21.,  22.,\n",
       "        23.,  24.,  25.,  26.,  27.,  28.,  29.,  30.,  31.,  32.,...\n",
       "        34.,  35.,  36.,  37.,  38.,  39.,  40.,  41.,  42.,  43.,  44.,\n",
       "        45.,  46.,  47.,  48.,  49.,  50.,  51.,  52.,  53.,  54.,  55.,\n",
       "        56.,  57.,  58.,  59.,  60.,  61.,  62.,  63.,  64.,  65.,  66.,\n",
       "        67.,  68.,  69.,  70.,  71.,  72.,  73.,  74.,  75.,  76.,  77.,\n",
       "        78.,  79.,  80.,  81.,  82.,  83.,  84.,  85.,  86.,  87.,  88.,\n",
       "        89.,  90.,  91.,  92.,  93.,  94.,  95.,  96.,  97.,  98.,  99.,\n",
       "       100.])},\n",
       "             pre_dispatch='2*n_jobs', refit=True, return_train_score=False,\n",
       "             scoring='neg_mean_absolute_error', verbose=0)"
      ]
     },
     "execution_count": 196,
     "metadata": {},
     "output_type": "execute_result"
    }
   ],
   "source": [
    "lambdas=np.linspace(1,100,100)\n",
    "params={'alpha':lambdas}\n",
    "model=Ridge(fit_intercept=True)\n",
    "grid_search=GridSearchCV(model,param_grid=params,cv=10,scoring='neg_mean_absolute_error')\n",
    "grid_search.fit(x_train_train,y_train_train)"
   ]
  },
  {
   "cell_type": "code",
   "execution_count": 197,
   "metadata": {},
   "outputs": [
    {
     "data": {
      "text/plain": [
       "Ridge(alpha=100.0, copy_X=True, fit_intercept=True, max_iter=None,\n",
       "      normalize=False, random_state=None, solver='auto', tol=0.001)"
      ]
     },
     "execution_count": 197,
     "metadata": {},
     "output_type": "execute_result"
    }
   ],
   "source": [
    "grid_search.best_estimator_"
   ]
  },
  {
   "cell_type": "code",
   "execution_count": 198,
   "metadata": {},
   "outputs": [
    {
     "data": {
      "text/plain": [
       "{'mean_fit_time': array([0.00654626, 0.00576146, 0.0047895 , 0.00460916, 0.00594423,\n",
       "        0.00535777, 0.00492554, 0.00656214, 0.00522509, 0.00490563,\n",
       "        0.00711641, 0.00430651, 0.00601461, 0.00648949, 0.00597813,\n",
       "        0.00592029, 0.00554214, 0.00767515, 0.00493453, 0.00510094,\n",
       "        0.00473509, 0.00430281, 0.0040134 , 0.00372157, 0.00456398,\n",
       "        0.00630376, 0.00537193, 0.00568445, 0.0057734 , 0.00601923,\n",
       "        0.00492983, 0.00507741, 0.00978835, 0.00603404, 0.00682693,\n",
       "        0.00507019, 0.00449126, 0.00546274, 0.00622315, 0.0050957 ,\n",
       "        0.00598683, 0.00588024, 0.00482428, 0.00571661, 0.00592988,\n",
       "        0.00452638, 0.00547168, 0.00553081, 0.00672255, 0.00512791,\n",
       "        0.00502298, 0.0057791 , 0.00581117, 0.00663245, 0.00647783,\n",
       "        0.00552437, 0.00602117, 0.00646076, 0.00532749, 0.00419605,\n",
       "        0.0041543 , 0.00521865, 0.00454865, 0.00639613, 0.00615575,\n",
       "        0.00421946, 0.00588832, 0.00719328, 0.00445833, 0.00602427,\n",
       "        0.00535166, 0.00543442, 0.00523748, 0.00571291, 0.00702331,\n",
       "        0.00504761, 0.00610168, 0.00601883, 0.00602684, 0.00524788,\n",
       "        0.00554585, 0.00491204, 0.00624604, 0.00542634, 0.00541487,\n",
       "        0.00601494, 0.00641739, 0.00496485, 0.00698757, 0.00507119,\n",
       "        0.00477834, 0.00515406, 0.00289145, 0.00190864, 0.00518165,\n",
       "        0.00524595, 0.00701339, 0.00753808, 0.00639846, 0.00586479]),\n",
       " 'std_fit_time': array([0.00221594, 0.00168576, 0.0014552 , 0.00127527, 0.00170594,\n",
       "        0.00163983, 0.00186527, 0.00166342, 0.00203138, 0.00157553,\n",
       "        0.00143047, 0.00141164, 0.00156799, 0.00145086, 0.0015894 ,\n",
       "        0.00150333, 0.00199798, 0.00142244, 0.00172271, 0.00218495,\n",
       "        0.00121631, 0.00141696, 0.00063176, 0.00086782, 0.00240762,\n",
       "        0.00151937, 0.0017826 , 0.00215852, 0.00162855, 0.00144016,\n",
       "        0.00182818, 0.00193821, 0.00681945, 0.00225822, 0.00199358,\n",
       "        0.00261727, 0.0016917 , 0.00210006, 0.00152752, 0.00242476,\n",
       "        0.00183828, 0.00202614, 0.00166205, 0.00189312, 0.00218926,\n",
       "        0.00188472, 0.00217735, 0.00219462, 0.00209337, 0.00225365,\n",
       "        0.00175236, 0.00094944, 0.0021529 , 0.00147814, 0.0024652 ,\n",
       "        0.00113019, 0.00167093, 0.00264224, 0.00213462, 0.00159724,\n",
       "        0.00202691, 0.00162909, 0.00203747, 0.00196181, 0.0019005 ,\n",
       "        0.00165348, 0.00222693, 0.00158889, 0.00161035, 0.00202825,\n",
       "        0.00177181, 0.00163375, 0.00192765, 0.00189357, 0.00156707,\n",
       "        0.00122331, 0.00163178, 0.0014732 , 0.00183722, 0.00178318,\n",
       "        0.00165903, 0.00121729, 0.00188342, 0.00176062, 0.00185062,\n",
       "        0.00178196, 0.00249777, 0.00377895, 0.00623283, 0.00171962,\n",
       "        0.00220711, 0.00767135, 0.00200632, 0.00507577, 0.00770359,\n",
       "        0.00728879, 0.00398181, 0.00321309, 0.0019087 , 0.00201436]),\n",
       " 'mean_score_time': array([0.00293832, 0.00213768, 0.00136266, 0.00179813, 0.00283623,\n",
       "        0.00183282, 0.00294783, 0.0024229 , 0.00305679, 0.00184262,\n",
       "        0.00227454, 0.00251234, 0.00118361, 0.00196543, 0.00211401,\n",
       "        0.00237138, 0.00295224, 0.00161164, 0.00089905, 0.00263462,\n",
       "        0.00145934, 0.0023489 , 0.00110419, 0.00261443, 0.00262771,\n",
       "        0.00151846, 0.00103645, 0.00167441, 0.00220764, 0.00273976,\n",
       "        0.00289712, 0.00279174, 0.00208733, 0.00173533, 0.00147531,\n",
       "        0.00231023, 0.0023066 , 0.00152867, 0.00323443, 0.00348227,\n",
       "        0.0015063 , 0.00170076, 0.00230517, 0.00159833, 0.00118315,\n",
       "        0.00255473, 0.00278497, 0.00160441, 0.001004  , 0.00278034,\n",
       "        0.00235627, 0.00189834, 0.00147038, 0.00207934, 0.00316336,\n",
       "        0.00210407, 0.00181735, 0.00124333, 0.00179956, 0.001966  ,\n",
       "        0.00240719, 0.00242805, 0.00413959, 0.0018548 , 0.00200121,\n",
       "        0.00252099, 0.00289063, 0.00343776, 0.00238681, 0.00301647,\n",
       "        0.00139842, 0.00200045, 0.00219753, 0.00239937, 0.00165408,\n",
       "        0.0033473 , 0.0016454 , 0.00323908, 0.00167682, 0.00181236,\n",
       "        0.00241497, 0.00190217, 0.00160334, 0.00185316, 0.00206943,\n",
       "        0.00275784, 0.00190704, 0.00284324, 0.00346282, 0.00279858,\n",
       "        0.00169415, 0.00267873, 0.0007097 , 0.00314395, 0.00331676,\n",
       "        0.00332673, 0.00152173, 0.0027298 , 0.00278022, 0.00217514]),\n",
       " 'std_score_time': array([0.00119508, 0.00227949, 0.00167663, 0.00183085, 0.00185943,\n",
       "        0.00173678, 0.0016457 , 0.00175616, 0.00218482, 0.0018662 ,\n",
       "        0.00232383, 0.00175018, 0.00148365, 0.00076357, 0.00191869,\n",
       "        0.00137959, 0.00139663, 0.00082927, 0.00157635, 0.00197944,\n",
       "        0.00173751, 0.0020179 , 0.00130428, 0.00174637, 0.00196947,\n",
       "        0.00176177, 0.0012987 , 0.00201496, 0.00149792, 0.00150107,\n",
       "        0.00131589, 0.00200476, 0.00133225, 0.00152322, 0.00143394,\n",
       "        0.00206805, 0.0017968 , 0.00199874, 0.00148669, 0.00185581,\n",
       "        0.00174043, 0.00210234, 0.00190092, 0.00195755, 0.00180787,\n",
       "        0.00191551, 0.00168477, 0.00168413, 0.00179771, 0.0018235 ,\n",
       "        0.00171063, 0.00188831, 0.00171959, 0.0012628 , 0.00286808,\n",
       "        0.00176311, 0.00205539, 0.00128254, 0.00195697, 0.00200902,\n",
       "        0.00190056, 0.00202533, 0.00148951, 0.00189857, 0.00200122,\n",
       "        0.00187494, 0.00189948, 0.00124032, 0.00178381, 0.00161582,\n",
       "        0.00174168, 0.00200046, 0.00183333, 0.00195911, 0.00180659,\n",
       "        0.00191714, 0.00149201, 0.00118028, 0.0017974 , 0.0019155 ,\n",
       "        0.00189926, 0.00192379, 0.0019637 , 0.00199338, 0.00180823,\n",
       "        0.00168376, 0.00164226, 0.00290792, 0.00507941, 0.00145363,\n",
       "        0.00161157, 0.0046953 , 0.00121517, 0.00628797, 0.00664224,\n",
       "        0.00632729, 0.00180005, 0.00194341, 0.00184233, 0.00187247]),\n",
       " 'param_alpha': masked_array(data=[1.0, 2.0, 3.0, 4.0, 5.0, 6.0, 7.0, 8.0, 9.0, 10.0,\n",
       "                    11.0, 12.0, 13.0, 14.0, 15.0, 16.0, 17.0, 18.0, 19.0,\n",
       "                    20.0, 21.0, 22.0, 23.0, 24.0, 25.0, 26.0, 27.0, 28.0,\n",
       "                    29.0, 30.0, 31.0, 32.0, 33.0, 34.0, 35.0, 36.0, 37.0,\n",
       "                    38.0, 39.0, 40.0, 41.0, 42.0, 43.0, 44.0, 45.0, 46.0,\n",
       "                    47.0, 48.0, 49.0, 50.0, 51.0, 52.0, 53.0, 54.0, 55.0,\n",
       "                    56.0, 57.0, 58.0, 59.0, 60.0, 61.0, 62.0, 63.0, 64.0,\n",
       "                    65.0, 66.0, 67.0, 68.0, 69.0, 70.0, 71.0, 72.0, 73.0,\n",
       "                    74.0, 75.0, 76.0, 77.0, 78.0, 79.0, 80.0, 81.0, 82.0,\n",
       "                    83.0, 84.0, 85.0, 86.0, 87.0, 88.0, 89.0, 90.0, 91.0,\n",
       "                    92.0, 93.0, 94.0, 95.0, 96.0, 97.0, 98.0, 99.0, 100.0],\n",
       "              mask=[False, False, False, False, False, False, False, False,\n",
       "                    False, False, False, False, False, False, False, False,\n",
       "                    False, False, False, False, False, False, False, False,\n",
       "                    False, False, False, False, False, False, False, False,\n",
       "                    False, False, False, False, False, False, False, False,\n",
       "                    False, False, False, False, False, False, False, False,\n",
       "                    False, False, False, False, False, False, False, False,\n",
       "                    False, False, False, False, False, False, False, False,\n",
       "                    False, False, False, False, False, False, False, False,\n",
       "                    False, False, False, False, False, False, False, False,\n",
       "                    False, False, False, False, False, False, False, False,\n",
       "                    False, False, False, False, False, False, False, False,\n",
       "                    False, False, False, False],\n",
       "        fill_value='?',\n",
       "             dtype=object),\n",
       " 'params': [{'alpha': 1.0},\n",
       "  {'alpha': 2.0},\n",
       "  {'alpha': 3.0},\n",
       "  {'alpha': 4.0},\n",
       "  {'alpha': 5.0},\n",
       "  {'alpha': 6.0},\n",
       "  {'alpha': 7.0},\n",
       "  {'alpha': 8.0},\n",
       "  {'alpha': 9.0},\n",
       "  {'alpha': 10.0},\n",
       "  {'alpha': 11.0},\n",
       "  {'alpha': 12.0},\n",
       "  {'alpha': 13.0},\n",
       "  {'alpha': 14.0},\n",
       "  {'alpha': 15.0},\n",
       "  {'alpha': 16.0},\n",
       "  {'alpha': 17.0},\n",
       "  {'alpha': 18.0},\n",
       "  {'alpha': 19.0},\n",
       "  {'alpha': 20.0},\n",
       "  {'alpha': 21.0},\n",
       "  {'alpha': 22.0},\n",
       "  {'alpha': 23.0},\n",
       "  {'alpha': 24.0},\n",
       "  {'alpha': 25.0},\n",
       "  {'alpha': 26.0},\n",
       "  {'alpha': 27.0},\n",
       "  {'alpha': 28.0},\n",
       "  {'alpha': 29.0},\n",
       "  {'alpha': 30.0},\n",
       "  {'alpha': 31.0},\n",
       "  {'alpha': 32.0},\n",
       "  {'alpha': 33.0},\n",
       "  {'alpha': 34.0},\n",
       "  {'alpha': 35.0},\n",
       "  {'alpha': 36.0},\n",
       "  {'alpha': 37.0},\n",
       "  {'alpha': 38.0},\n",
       "  {'alpha': 39.0},\n",
       "  {'alpha': 40.0},\n",
       "  {'alpha': 41.0},\n",
       "  {'alpha': 42.0},\n",
       "  {'alpha': 43.0},\n",
       "  {'alpha': 44.0},\n",
       "  {'alpha': 45.0},\n",
       "  {'alpha': 46.0},\n",
       "  {'alpha': 47.0},\n",
       "  {'alpha': 48.0},\n",
       "  {'alpha': 49.0},\n",
       "  {'alpha': 50.0},\n",
       "  {'alpha': 51.0},\n",
       "  {'alpha': 52.0},\n",
       "  {'alpha': 53.0},\n",
       "  {'alpha': 54.0},\n",
       "  {'alpha': 55.0},\n",
       "  {'alpha': 56.0},\n",
       "  {'alpha': 57.0},\n",
       "  {'alpha': 58.0},\n",
       "  {'alpha': 59.0},\n",
       "  {'alpha': 60.0},\n",
       "  {'alpha': 61.0},\n",
       "  {'alpha': 62.0},\n",
       "  {'alpha': 63.0},\n",
       "  {'alpha': 64.0},\n",
       "  {'alpha': 65.0},\n",
       "  {'alpha': 66.0},\n",
       "  {'alpha': 67.0},\n",
       "  {'alpha': 68.0},\n",
       "  {'alpha': 69.0},\n",
       "  {'alpha': 70.0},\n",
       "  {'alpha': 71.0},\n",
       "  {'alpha': 72.0},\n",
       "  {'alpha': 73.0},\n",
       "  {'alpha': 74.0},\n",
       "  {'alpha': 75.0},\n",
       "  {'alpha': 76.0},\n",
       "  {'alpha': 77.0},\n",
       "  {'alpha': 78.0},\n",
       "  {'alpha': 79.0},\n",
       "  {'alpha': 80.0},\n",
       "  {'alpha': 81.0},\n",
       "  {'alpha': 82.0},\n",
       "  {'alpha': 83.0},\n",
       "  {'alpha': 84.0},\n",
       "  {'alpha': 85.0},\n",
       "  {'alpha': 86.0},\n",
       "  {'alpha': 87.0},\n",
       "  {'alpha': 88.0},\n",
       "  {'alpha': 89.0},\n",
       "  {'alpha': 90.0},\n",
       "  {'alpha': 91.0},\n",
       "  {'alpha': 92.0},\n",
       "  {'alpha': 93.0},\n",
       "  {'alpha': 94.0},\n",
       "  {'alpha': 95.0},\n",
       "  {'alpha': 96.0},\n",
       "  {'alpha': 97.0},\n",
       "  {'alpha': 98.0},\n",
       "  {'alpha': 99.0},\n",
       "  {'alpha': 100.0}],\n",
       " 'split0_test_score': array([-1.5131287 , -1.51162529, -1.51027245, -1.50930563, -1.5084136 ,\n",
       "        -1.50757231, -1.50682884, -1.50615507, -1.50551002, -1.50489068,\n",
       "        -1.50429459, -1.50371965, -1.50316413, -1.50262652, -1.50210552,\n",
       "        -1.50159999, -1.50110894, -1.50066432, -1.50024115, -1.49987057,\n",
       "        -1.49952913, -1.49919631, -1.49887168, -1.4985548 , -1.49824533,\n",
       "        -1.49794292, -1.49764725, -1.49735803, -1.497075  , -1.49679791,\n",
       "        -1.49652652, -1.49626063, -1.49600003, -1.49574452, -1.49549394,\n",
       "        -1.49524811, -1.49500688, -1.49477009, -1.49453761, -1.4943093 ,\n",
       "        -1.49408504, -1.4938647 , -1.49364817, -1.49343535, -1.49322612,\n",
       "        -1.49302038, -1.49281805, -1.49261904, -1.49242325, -1.4922306 ,\n",
       "        -1.49204259, -1.49187402, -1.49170805, -1.49154463, -1.49138369,\n",
       "        -1.49122518, -1.49106904, -1.4909152 , -1.49076362, -1.49061425,\n",
       "        -1.49046703, -1.49032192, -1.49017886, -1.49003783, -1.48989877,\n",
       "        -1.48976164, -1.48962639, -1.489493  , -1.48936142, -1.48923162,\n",
       "        -1.48910356, -1.4889772 , -1.48885252, -1.48872947, -1.48860803,\n",
       "        -1.48848817, -1.48836985, -1.48825306, -1.48813775, -1.4880239 ,\n",
       "        -1.48791149, -1.48780049, -1.48769087, -1.48758261, -1.48747568,\n",
       "        -1.48737007, -1.48726574, -1.48716268, -1.48706087, -1.48696028,\n",
       "        -1.48686089, -1.48676268, -1.48666564, -1.48656974, -1.48647497,\n",
       "        -1.4863813 , -1.48628872, -1.48619721, -1.48610676, -1.48601735]),\n",
       " 'split1_test_score': array([-1.69620623, -1.69770205, -1.69851852, -1.69893186, -1.69908668,\n",
       "        -1.69906663, -1.69892372, -1.69869214, -1.69839532, -1.69804987,\n",
       "        -1.69766792, -1.69725848, -1.69682842, -1.69638301, -1.69592639,\n",
       "        -1.69546181, -1.69499185, -1.6945186 , -1.69404374, -1.69356861,\n",
       "        -1.69311871, -1.69272683, -1.69233554, -1.6919455 , -1.69155726,\n",
       "        -1.69117129, -1.69078794, -1.69040754, -1.69003033, -1.68965654,\n",
       "        -1.68928631, -1.68891979, -1.68855709, -1.68819829, -1.68784344,\n",
       "        -1.6874926 , -1.68714579, -1.68680303, -1.68646432, -1.68614791,\n",
       "        -1.68584783, -1.68555111, -1.68525775, -1.68496773, -1.68468105,\n",
       "        -1.68439769, -1.68411762, -1.68384082, -1.68356727, -1.68329693,\n",
       "        -1.68302977, -1.68276576, -1.68250487, -1.68224705, -1.68199227,\n",
       "        -1.68174049, -1.68149168, -1.68124579, -1.68100278, -1.68076263,\n",
       "        -1.68052528, -1.6802907 , -1.68005885, -1.67982969, -1.67960318,\n",
       "        -1.67937928, -1.67915796, -1.67893918, -1.6787229 , -1.67850907,\n",
       "        -1.67829768, -1.67808867, -1.67788202, -1.67767769, -1.67747564,\n",
       "        -1.67727584, -1.67707826, -1.67688493, -1.67669515, -1.67650744,\n",
       "        -1.67632176, -1.67613808, -1.67595638, -1.67577662, -1.67559878,\n",
       "        -1.67542283, -1.67524874, -1.67507648, -1.67490602, -1.67473735,\n",
       "        -1.67457043, -1.67440523, -1.67424174, -1.67407993, -1.67391978,\n",
       "        -1.67376125, -1.67360433, -1.673449  , -1.67329523, -1.673143  ]),\n",
       " 'split2_test_score': array([-1.54882901, -1.54477915, -1.54197963, -1.5398264 , -1.53807964,\n",
       "        -1.5365023 , -1.53507082, -1.53376603, -1.53266655, -1.53175716,\n",
       "        -1.53092342, -1.53015695, -1.52945056, -1.52882733, -1.52826487,\n",
       "        -1.52774211, -1.52725536, -1.52680137, -1.52637727, -1.52598046,\n",
       "        -1.52560867, -1.52525982, -1.52493209, -1.52471155, -1.52454633,\n",
       "        -1.5243937 , -1.52425265, -1.52412224, -1.52400164, -1.52389011,\n",
       "        -1.52378694, -1.52369151, -1.52360325, -1.52352163, -1.52344618,\n",
       "        -1.52337646, -1.52331206, -1.5232613 , -1.5232337 , -1.52322034,\n",
       "        -1.52321002, -1.52320251, -1.5231976 , -1.5231951 , -1.52319481,\n",
       "        -1.52319658, -1.52320026, -1.5232057 , -1.52321277, -1.52322135,\n",
       "        -1.52323133, -1.5232426 , -1.52325508, -1.52326867, -1.52328328,\n",
       "        -1.52329884, -1.52331529, -1.52333255, -1.52335055, -1.52336926,\n",
       "        -1.5233886 , -1.52340854, -1.52342902, -1.52345   , -1.52347144,\n",
       "        -1.52349331, -1.52351556, -1.52353817, -1.52356111, -1.52358434,\n",
       "        -1.52360783, -1.52363158, -1.52365554, -1.5236797 , -1.52370404,\n",
       "        -1.52372854, -1.52375317, -1.52377794, -1.52380281, -1.52382777,\n",
       "        -1.52385282, -1.52387793, -1.5239031 , -1.52392831, -1.52395355,\n",
       "        -1.52397882, -1.5240041 , -1.52402938, -1.52405467, -1.52407994,\n",
       "        -1.5241052 , -1.52413043, -1.52416464, -1.52420094, -1.52423707,\n",
       "        -1.52427304, -1.52430883, -1.52434445, -1.5243799 , -1.52441517]),\n",
       " 'split3_test_score': array([-1.48504024, -1.48267083, -1.48077156, -1.47912127, -1.47766412,\n",
       "        -1.47636796, -1.475216  , -1.47416773, -1.47329309, -1.47249298,\n",
       "        -1.4718126 , -1.47150653, -1.4712224 , -1.47095692, -1.47070744,\n",
       "        -1.47052522, -1.47035724, -1.47019952, -1.47005079, -1.47005959,\n",
       "        -1.47010711, -1.47015037, -1.47018959, -1.470225  , -1.47025679,\n",
       "        -1.47028519, -1.47031039, -1.47033258, -1.47035193, -1.47036864,\n",
       "        -1.47038285, -1.47039472, -1.4704044 , -1.47041202, -1.47041772,\n",
       "        -1.4704216 , -1.47042379, -1.4704244 , -1.47042351, -1.47042123,\n",
       "        -1.47041764, -1.47041283, -1.47040686, -1.47039983, -1.47039179,\n",
       "        -1.47038281, -1.47037294, -1.47040344, -1.47045372, -1.47050246,\n",
       "        -1.47054972, -1.47059558, -1.47064008, -1.47068328, -1.47072522,\n",
       "        -1.47076597, -1.47080556, -1.47084403, -1.47088144, -1.47091782,\n",
       "        -1.47095321, -1.47098764, -1.47102115, -1.47105377, -1.47108554,\n",
       "        -1.47111647, -1.47114662, -1.47117599, -1.47120461, -1.47123252,\n",
       "        -1.47125973, -1.47128627, -1.47131216, -1.47133742, -1.47136208,\n",
       "        -1.47138614, -1.47140963, -1.47143257, -1.47145498, -1.47147686,\n",
       "        -1.47149824, -1.47151914, -1.47153956, -1.47155952, -1.47157903,\n",
       "        -1.47159811, -1.47161677, -1.47163502, -1.47165288, -1.47167035,\n",
       "        -1.47168744, -1.47170417, -1.47172054, -1.47173657, -1.47175227,\n",
       "        -1.47176763, -1.47178268, -1.47179742, -1.47181186, -1.471826  ]),\n",
       " 'split4_test_score': array([-1.62861602, -1.62800327, -1.62717381, -1.62624132, -1.62527657,\n",
       "        -1.62431487, -1.62337426, -1.62246379, -1.62165721, -1.62107614,\n",
       "        -1.62059211, -1.62029942, -1.62000368, -1.61970726, -1.6194119 ,\n",
       "        -1.61911889, -1.61882919, -1.61854351, -1.61826234, -1.61798605,\n",
       "        -1.61771488, -1.61744899, -1.61718846, -1.61693334, -1.61668362,\n",
       "        -1.61643927, -1.61620021, -1.61596638, -1.61573769, -1.61551402,\n",
       "        -1.61529528, -1.61510576, -1.61493964, -1.61477756, -1.61461942,\n",
       "        -1.6144651 , -1.6143145 , -1.6141675 , -1.61402401, -1.61388391,\n",
       "        -1.6137471 , -1.61361349, -1.61348298, -1.61335546, -1.61323086,\n",
       "        -1.61310909, -1.61299005, -1.61287366, -1.61275985, -1.61264854,\n",
       "        -1.61253965, -1.6124331 , -1.61232884, -1.61222679, -1.61212689,\n",
       "        -1.61202908, -1.61193329, -1.61183946, -1.61174754, -1.61165748,\n",
       "        -1.61156923, -1.61148272, -1.61141185, -1.61135548, -1.61130031,\n",
       "        -1.61124628, -1.61119338, -1.61114157, -1.61109082, -1.6110411 ,\n",
       "        -1.61099238, -1.61094463, -1.61089783, -1.61085195, -1.61080696,\n",
       "        -1.61076285, -1.61071959, -1.61067715, -1.61063552, -1.61059467,\n",
       "        -1.61055458, -1.61051524, -1.61047663, -1.61047073, -1.61046801,\n",
       "        -1.61046553, -1.61046328, -1.61046126, -1.61045945, -1.61045786,\n",
       "        -1.61045647, -1.61045527, -1.61045427, -1.61045345, -1.61045281,\n",
       "        -1.61045235, -1.61045205, -1.61045192, -1.61045194, -1.61045211]),\n",
       " 'split5_test_score': array([-1.46775237, -1.46823851, -1.46872302, -1.46908373, -1.46934512,\n",
       "        -1.46953773, -1.46970205, -1.469972  , -1.47020151, -1.4703988 ,\n",
       "        -1.47057001, -1.47071988, -1.47085207, -1.4709695 , -1.47107451,\n",
       "        -1.471169  , -1.47125452, -1.47133235, -1.47140356, -1.47146905,\n",
       "        -1.47154073, -1.47163014, -1.47171382, -1.4717924 , -1.47186641,\n",
       "        -1.47193631, -1.47200253, -1.4720654 , -1.47212526, -1.47218239,\n",
       "        -1.47223702, -1.47228937, -1.47233966, -1.47238804, -1.47243468,\n",
       "        -1.47247971, -1.47252327, -1.47256546, -1.47260639, -1.47264615,\n",
       "        -1.47268483, -1.4727225 , -1.47275923, -1.47279508, -1.47283012,\n",
       "        -1.47286439, -1.47289794, -1.47293082, -1.47296307, -1.47299472,\n",
       "        -1.47302581, -1.47305637, -1.47308642, -1.47311601, -1.47314514,\n",
       "        -1.47317385, -1.47320215, -1.47323007, -1.47325762, -1.47328481,\n",
       "        -1.47331168, -1.47333822, -1.47336446, -1.4733904 , -1.47341606,\n",
       "        -1.47344145, -1.47346659, -1.47349147, -1.47351611, -1.47354052,\n",
       "        -1.4735647 , -1.47358867, -1.47361243, -1.47363599, -1.47365935,\n",
       "        -1.47368252, -1.47370551, -1.47372832, -1.47375095, -1.47377342,\n",
       "        -1.47379572, -1.47381787, -1.47383985, -1.47386169, -1.47388338,\n",
       "        -1.47390492, -1.47392632, -1.47394759, -1.47396872, -1.47398972,\n",
       "        -1.47401058, -1.47403133, -1.47405195, -1.47407245, -1.47409283,\n",
       "        -1.47411309, -1.47413324, -1.47415328, -1.47417321, -1.47419302]),\n",
       " 'split6_test_score': array([-1.85229381, -1.8523531 , -1.85225577, -1.85207292, -1.85184207,\n",
       "        -1.85158475, -1.851314  , -1.85103803, -1.85076209, -1.85048964,\n",
       "        -1.85022288, -1.84998019, -1.8497699 , -1.84956728, -1.84937261,\n",
       "        -1.84918599, -1.84900738, -1.84883665, -1.84867362, -1.84851806,\n",
       "        -1.84836972, -1.84822833, -1.84809897, -1.84798184, -1.847871  ,\n",
       "        -1.84776615, -1.847667  , -1.84758531, -1.8475368 , -1.84749214,\n",
       "        -1.84745113, -1.84741359, -1.84737934, -1.84734821, -1.84732004,\n",
       "        -1.84729466, -1.84727195, -1.84725176, -1.84723395, -1.8472184 ,\n",
       "        -1.84720499, -1.84719362, -1.84718417, -1.84717654, -1.84717063,\n",
       "        -1.84716636, -1.84716364, -1.84716238, -1.84716252, -1.84716397,\n",
       "        -1.84716666, -1.84717054, -1.84717553, -1.84718159, -1.84718864,\n",
       "        -1.84719664, -1.84720554, -1.84721529, -1.84722584, -1.84723715,\n",
       "        -1.84724918, -1.84726189, -1.84727524, -1.8472892 , -1.84730373,\n",
       "        -1.8473188 , -1.84733438, -1.84735044, -1.84736696, -1.8473839 ,\n",
       "        -1.84740125, -1.84741898, -1.84743706, -1.84745548, -1.84747422,\n",
       "        -1.84749324, -1.84751255, -1.84753212, -1.84755192, -1.84757196,\n",
       "        -1.8475922 , -1.84761264, -1.84763326, -1.84765406, -1.84767501,\n",
       "        -1.8476961 , -1.84771733, -1.84773868, -1.84777016, -1.84781005,\n",
       "        -1.84784975, -1.84788924, -1.84792854, -1.84796764, -1.84800653,\n",
       "        -1.84804522, -1.84808371, -1.84812199, -1.84816006, -1.84819793]),\n",
       " 'split7_test_score': array([-1.5571719 , -1.55373176, -1.55077311, -1.54825931, -1.54599254,\n",
       "        -1.54392297, -1.54201632, -1.54029144, -1.53868862, -1.53718107,\n",
       "        -1.53575871, -1.53448895, -1.53329008, -1.53215221, -1.53107013,\n",
       "        -1.53003931, -1.52905571, -1.52811577, -1.52721633, -1.52642217,\n",
       "        -1.52572768, -1.5250593 , -1.52441547, -1.52379478, -1.52319589,\n",
       "        -1.52261761, -1.5220588 , -1.5215409 , -1.52106561, -1.52061411,\n",
       "        -1.52017712, -1.51978379, -1.51944622, -1.51915348, -1.51886945,\n",
       "        -1.51859372, -1.5183259 , -1.51806561, -1.51781252, -1.5175663 ,\n",
       "        -1.51732664, -1.51709327, -1.5168659 , -1.5166443 , -1.51642823,\n",
       "        -1.51621745, -1.51601176, -1.51582787, -1.51565432, -1.51548491,\n",
       "        -1.51531947, -1.51515787, -1.51499996, -1.5148456 , -1.51469468,\n",
       "        -1.51454706, -1.51440264, -1.5142613 , -1.51412294, -1.51399157,\n",
       "        -1.51386543, -1.51374224, -1.51362191, -1.51351927, -1.51342011,\n",
       "        -1.51332319, -1.51322846, -1.51313585, -1.5130553 , -1.51299318,\n",
       "        -1.51293263, -1.5128736 , -1.51281605, -1.51275994, -1.51270521,\n",
       "        -1.51265183, -1.51259977, -1.51254897, -1.51249942, -1.51245106,\n",
       "        -1.51240387, -1.51235782, -1.51232914, -1.51230673, -1.51228516,\n",
       "        -1.51226441, -1.51224445, -1.51222526, -1.51220681, -1.51219235,\n",
       "        -1.51218396, -1.51217622, -1.51216913, -1.51216264, -1.51215676,\n",
       "        -1.51215146, -1.51214673, -1.51214254, -1.51213889, -1.51213576]),\n",
       " 'split8_test_score': array([-1.59500243, -1.59266099, -1.59094017, -1.58961135, -1.58853902,\n",
       "        -1.58763262, -1.58684629, -1.58615017, -1.58556439, -1.58506857,\n",
       "        -1.58461672, -1.58420114, -1.58381599, -1.58345673, -1.58311982,\n",
       "        -1.5828024 , -1.58250216, -1.5822172 , -1.58194595, -1.58168709,\n",
       "        -1.58143948, -1.58120216, -1.58097429, -1.58075516, -1.58054413,\n",
       "        -1.58034063, -1.58014417, -1.5799543 , -1.57977062, -1.57959278,\n",
       "        -1.57942044, -1.57925331, -1.57909112, -1.57893362, -1.57878059,\n",
       "        -1.5786318 , -1.57848707, -1.57834621, -1.57820906, -1.57807547,\n",
       "        -1.57794527, -1.57781834, -1.57769455, -1.57757378, -1.57745591,\n",
       "        -1.57734084, -1.57722846, -1.57711868, -1.57701141, -1.57690656,\n",
       "        -1.57680406, -1.57670382, -1.57660577, -1.57650984, -1.57641596,\n",
       "        -1.57632407, -1.57623412, -1.57614603, -1.57605976, -1.57597525,\n",
       "        -1.57589245, -1.57581131, -1.57573178, -1.57565383, -1.5755774 ,\n",
       "        -1.57550246, -1.57542897, -1.57535688, -1.57528616, -1.57521677,\n",
       "        -1.57514868, -1.57508186, -1.57501628, -1.57495189, -1.57488869,\n",
       "        -1.57482662, -1.57476568, -1.57470582, -1.57464703, -1.57458928,\n",
       "        -1.57453255, -1.5744768 , -1.57442203, -1.5743682 , -1.5743153 ,\n",
       "        -1.5742633 , -1.57421219, -1.57416194, -1.57411254, -1.57406397,\n",
       "        -1.57401621, -1.57396924, -1.57392305, -1.57387762, -1.57383293,\n",
       "        -1.57378897, -1.57374573, -1.57370318, -1.57366132, -1.57362013]),\n",
       " 'split9_test_score': array([-1.58982192, -1.58940064, -1.58905989, -1.58877926, -1.58854602,\n",
       "        -1.58835137, -1.58818883, -1.5880534 , -1.58794112, -1.58784878,\n",
       "        -1.5877737 , -1.58771367, -1.58766682, -1.58763153, -1.58760644,\n",
       "        -1.58759037, -1.58758227, -1.58759295, -1.58762887, -1.58766904,\n",
       "        -1.58771294, -1.58776012, -1.58781019, -1.58786278, -1.58791758,\n",
       "        -1.58797432, -1.58803274, -1.58809262, -1.58815377, -1.58825366,\n",
       "        -1.58835812, -1.58846196, -1.58856513, -1.58868369, -1.58880188,\n",
       "        -1.58891878, -1.58903437, -1.58914865, -1.58926162, -1.58937328,\n",
       "        -1.58948362, -1.58959264, -1.58970036, -1.58980679, -1.58991192,\n",
       "        -1.59001578, -1.59011837, -1.59021971, -1.59031981, -1.59041868,\n",
       "        -1.59052992, -1.5906514 , -1.59077145, -1.5908901 , -1.59100737,\n",
       "        -1.59112328, -1.59123784, -1.59135107, -1.59146301, -1.59157366,\n",
       "        -1.59168305, -1.59179616, -1.59192218, -1.59204667, -1.59216967,\n",
       "        -1.59229121, -1.5924113 , -1.59252999, -1.59264729, -1.59277179,\n",
       "        -1.59290215, -1.59303104, -1.5931585 , -1.59328455, -1.59340921,\n",
       "        -1.59353251, -1.59365448, -1.59377515, -1.59389452, -1.59401264,\n",
       "        -1.59412952, -1.59425883, -1.594397  , -1.59453359, -1.59466864,\n",
       "        -1.59480737, -1.59495983, -1.59511061, -1.59525975, -1.59540727,\n",
       "        -1.59555322, -1.5956976 , -1.59584047, -1.59598184, -1.59612174,\n",
       "        -1.5962602 , -1.59639724, -1.5965329 , -1.59666719, -1.59680014]),\n",
       " 'mean_test_score': array([-1.59338626, -1.59211656, -1.59104679, -1.59012331, -1.58927854,\n",
       "        -1.58848535, -1.58774811, -1.58707498, -1.58646799, -1.58592537,\n",
       "        -1.58542327, -1.58500449, -1.5846064 , -1.58422783, -1.58386596,\n",
       "        -1.58352351, -1.58319446, -1.58288223, -1.58258436, -1.58232307,\n",
       "        -1.5820869 , -1.58186624, -1.58165301, -1.58145571, -1.58126844,\n",
       "        -1.58108674, -1.58091037, -1.58074253, -1.58058487, -1.58043623,\n",
       "        -1.58029217, -1.58015745, -1.58003259, -1.57991611, -1.57980273,\n",
       "        -1.57969225, -1.57958456, -1.5794804 , -1.57938067, -1.57928623,\n",
       "        -1.5791953 , -1.5791065 , -1.57901976, -1.578935  , -1.57885214,\n",
       "        -1.57877114, -1.57869191, -1.57862021, -1.5785528 , -1.57848687,\n",
       "        -1.5784239 , -1.57836511, -1.57830761, -1.57825136, -1.57819631,\n",
       "        -1.57814245, -1.57808971, -1.57803808, -1.57798751, -1.57793839,\n",
       "        -1.57789051, -1.57784413, -1.57780153, -1.57776261, -1.57772462,\n",
       "        -1.57768741, -1.57765096, -1.57761525, -1.57758127, -1.57755048,\n",
       "        -1.57752106, -1.57749225, -1.57746404, -1.57743641, -1.57740934,\n",
       "        -1.57738283, -1.57735685, -1.5773316 , -1.57730701, -1.5772829 ,\n",
       "        -1.57725928, -1.57723748, -1.57721878, -1.5772042 , -1.57719025,\n",
       "        -1.57717715, -1.57716588, -1.57715489, -1.57714519, -1.57713691,\n",
       "        -1.57712941, -1.57712214, -1.577116  , -1.57711028, -1.57710477,\n",
       "        -1.57709945, -1.57709433, -1.57708939, -1.57708464, -1.57708006]),\n",
       " 'std_test_score': array([0.10776008, 0.1084823 , 0.10898037, 0.10933864, 0.10962223,\n",
       "        0.10985801, 0.11004989, 0.11019473, 0.11030797, 0.11040665,\n",
       "        0.11048893, 0.11053364, 0.11057702, 0.11061301, 0.11064348,\n",
       "        0.11066461, 0.11068231, 0.11069497, 0.11070487, 0.11069132,\n",
       "        0.11066973, 0.1106518 , 0.11063547, 0.11061642, 0.11059592,\n",
       "        0.1105761 , 0.110557  , 0.1105403 , 0.11052973, 0.11051945,\n",
       "        0.11050972, 0.11049964, 0.11048828, 0.11047572, 0.11046376,\n",
       "        0.11045238, 0.11044158, 0.11043089, 0.1104198 , 0.1104105 ,\n",
       "        0.11040294, 0.11039585, 0.11038922, 0.11038302, 0.11037724,\n",
       "        0.11037187, 0.1103669 , 0.1103573 , 0.11034574, 0.11033463,\n",
       "        0.110324  , 0.11031263, 0.11030169, 0.11029118, 0.11028108,\n",
       "        0.11027137, 0.11026204, 0.11025307, 0.11024446, 0.11023596,\n",
       "        0.11022764, 0.11021969, 0.11021263, 0.11020538, 0.11019835,\n",
       "        0.11019158, 0.11018507, 0.11017881, 0.11017221, 0.110165  ,\n",
       "        0.11015813, 0.1101515 , 0.1101451 , 0.11013892, 0.11013296,\n",
       "        0.11012721, 0.11012166, 0.11011649, 0.11011163, 0.11010695,\n",
       "        0.11010245, 0.11009831, 0.11009354, 0.11008958, 0.11008586,\n",
       "        0.11008237, 0.11007925, 0.11007628, 0.11007589, 0.11007749,\n",
       "        0.11007882, 0.1100802 , 0.1100812 , 0.11008214, 0.11008313,\n",
       "        0.11008418, 0.11008527, 0.11008641, 0.11008759, 0.11008881]),\n",
       " 'rank_test_score': array([100,  99,  98,  97,  96,  95,  94,  93,  92,  91,  90,  89,  88,\n",
       "         87,  86,  85,  84,  83,  82,  81,  80,  79,  78,  77,  76,  75,\n",
       "         74,  73,  72,  71,  70,  69,  68,  67,  66,  65,  64,  63,  62,\n",
       "         61,  60,  59,  58,  57,  56,  55,  54,  53,  52,  51,  50,  49,\n",
       "         48,  47,  46,  45,  44,  43,  42,  41,  40,  39,  38,  37,  36,\n",
       "         35,  34,  33,  32,  31,  30,  29,  28,  27,  26,  25,  24,  23,\n",
       "         22,  21,  20,  19,  18,  17,  16,  15,  14,  13,  12,  11,  10,\n",
       "          9,   8,   7,   6,   5,   4,   3,   2,   1])}"
      ]
     },
     "execution_count": 198,
     "metadata": {},
     "output_type": "execute_result"
    }
   ],
   "source": [
    "grid_search.cv_results_"
   ]
  },
  {
   "cell_type": "code",
   "execution_count": null,
   "metadata": {},
   "outputs": [],
   "source": []
  }
 ],
 "metadata": {
  "kernelspec": {
   "display_name": "Python 3",
   "language": "python",
   "name": "python3"
  },
  "language_info": {
   "codemirror_mode": {
    "name": "ipython",
    "version": 3
   },
   "file_extension": ".py",
   "mimetype": "text/x-python",
   "name": "python",
   "nbconvert_exporter": "python",
   "pygments_lexer": "ipython3",
   "version": "3.7.3"
  }
 },
 "nbformat": 4,
 "nbformat_minor": 2
}
